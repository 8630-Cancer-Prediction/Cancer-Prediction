{
 "cells": [
  {
   "cell_type": "code",
   "execution_count": 4,
   "metadata": {},
   "outputs": [],
   "source": [
    "import pandas as pd\n",
    "from sklearn import datasets, svm, metrics\n",
    "from sklearn.model_selection import train_test_split\n"
   ]
  },
  {
   "cell_type": "code",
   "execution_count": 5,
   "metadata": {},
   "outputs": [],
   "source": [
    "from sklearn.preprocessing import StandardScaler \n",
    "from sklearn.model_selection import train_test_split\n",
    "from sklearn.svm import SVC \n",
    "from sklearn.ensemble import RandomForestClassifier\n",
    "from sklearn.preprocessing import LabelEncoder\n",
    "from sklearn.model_selection import LeaveOneOut\n",
    "from sklearn.neighbors import KNeighborsClassifier \n",
    "from sklearn.metrics import accuracy_score, precision_score, recall_score, confusion_matrix\n",
    "import joblib"
   ]
  },
  {
   "cell_type": "code",
   "execution_count": 6,
   "metadata": {},
   "outputs": [],
   "source": [
    "from sklearn.model_selection import StratifiedKFold, KFold\n",
    "import numpy as np"
   ]
  },
  {
   "cell_type": "code",
   "execution_count": 7,
   "metadata": {},
   "outputs": [],
   "source": [
    "from datetime import datetime\n",
    "start = datetime.now()"
   ]
  },
  {
   "cell_type": "code",
   "execution_count": 8,
   "metadata": {},
   "outputs": [],
   "source": [
    "original_data = pd.read_csv (\"Preprocessed_BRCA_RNA_data_normalized.csv\")"
   ]
  },
  {
   "cell_type": "code",
   "execution_count": 9,
   "metadata": {},
   "outputs": [
    {
     "data": {
      "text/plain": [
       "1095"
      ]
     },
     "execution_count": 9,
     "metadata": {},
     "output_type": "execute_result"
    }
   ],
   "source": [
    "n_samples = len(original_data.index)\n",
    "n_samples"
   ]
  },
  {
   "cell_type": "code",
   "execution_count": 10,
   "metadata": {},
   "outputs": [
    {
     "data": {
      "text/plain": [
       "array([2, 2, 2, ..., 2, 2, 2])"
      ]
     },
     "execution_count": 10,
     "metadata": {},
     "output_type": "execute_result"
    }
   ],
   "source": [
    "def convertLabel(original_data):\n",
    "    label_maker = LabelEncoder()\n",
    "    original_data['Encoded'] = label_maker.fit_transform(original_data['Class'])\n",
    "    global labels_list \n",
    "    labels_list = list(label_maker.inverse_transform([0, 1, 2]))\n",
    "   \n",
    "\n",
    "convertLabel(original_data)\n",
    "y = original_data['Encoded'].values # Class labels array\n",
    "\n",
    "original_data['Encoded'].values\n"
   ]
  },
  {
   "cell_type": "code",
   "execution_count": 11,
   "metadata": {},
   "outputs": [
    {
     "data": {
      "text/plain": [
       "['Healthy', 'TNBC', 'non-TNBC']"
      ]
     },
     "execution_count": 11,
     "metadata": {},
     "output_type": "execute_result"
    }
   ],
   "source": [
    "labels_list"
   ]
  },
  {
   "cell_type": "code",
   "execution_count": 12,
   "metadata": {},
   "outputs": [],
   "source": [
    "original_data = original_data.drop('Sample-id', axis=1)"
   ]
  },
  {
   "cell_type": "code",
   "execution_count": 13,
   "metadata": {},
   "outputs": [
    {
     "data": {
      "text/plain": [
       "array(['Class', '?|100130426', '?|100133144', ..., 'psiTPTE22|387590',\n",
       "       'tAKR|389932', 'Encoded'], dtype=object)"
      ]
     },
     "execution_count": 13,
     "metadata": {},
     "output_type": "execute_result"
    }
   ],
   "source": [
    "original_data.columns.values"
   ]
  },
  {
   "cell_type": "code",
   "execution_count": 14,
   "metadata": {},
   "outputs": [],
   "source": [
    "genes = original_data.columns.values [1:-1] #select only columns for genes"
   ]
  },
  {
   "cell_type": "code",
   "execution_count": 15,
   "metadata": {},
   "outputs": [],
   "source": [
    "X = original_data[genes].values # features array"
   ]
  },
  {
   "cell_type": "code",
   "execution_count": 16,
   "metadata": {},
   "outputs": [
    {
     "data": {
      "text/plain": [
       "2.5737906765846592e-12"
      ]
     },
     "execution_count": 16,
     "metadata": {},
     "output_type": "execute_result"
    }
   ],
   "source": [
    "skf = StratifiedKFold(n_splits=5) # 5-fold cross validation\n",
    "counter = 0\n",
    "y_pred = []\n",
    "y_true = []\n",
    "num_rows, num_cols = X.shape\n",
    "1/(X.var() * num_cols)"
   ]
  },
  {
   "cell_type": "code",
   "execution_count": 17,
   "metadata": {},
   "outputs": [
    {
     "name": "stdout",
     "output_type": "stream",
     "text": [
      "0 ===========================\n",
      "Prediction: [2 2 2 2 2 2 2 2 0 2 2 2 2 2 2 2 2 2 2 2 2 2 2 1 2 2 2 2 2 2 1 2 2 2 2 2 2\n",
      " 2 2 2 2 2 2 1 2 1 2 2 2 2 2 2 1 2 2 2 2 2 2 2 2 2 2 1 1 2 1 2 1 2 2 2 2 2\n",
      " 2 2 1 2 2 2 2 2 2 2 2 2 2 2 2 2 2 0 2 2 2 2 2 2 2 2 2 1 2 2 2 1 2 2 2 1 2\n",
      " 2 2 2 2 2 0 2 0 2 0 2 1 0 2 2 0 1 0 2 0 2 2 2 2 2 2 2 2 2 2 2 2 2 2 2 2 2\n",
      " 2 2 2 2 2 1 1 2 1 2 2 2 2 2 2 2 2 2 2 2 2 2 2 1 2 2 2 2 2 2 2 2 1 2 2 2 2\n",
      " 2 2 2 2 2 2 2 2 2 2 2 2 2 2 2 2 2 1 2 0 0 0 0 0 0 0 0 0 0 0 0 0 0 0]\n",
      "True label 2\n",
      "1 ===========================\n",
      "Prediction: [2 2 2 2 2 2 2 2 2 2 2 2 2 2 2 2 2 2 2 2 2 2 2 2 2 2 2 2 2 2 2 2 2 2 2 2 2\n",
      " 2 2 2 2 2 1 2 2 2 2 2 0 2 2 2 2 2 2 2 2 2 2 2 2 2 2 2 2 2 2 2 2 2 2 2 2 2\n",
      " 1 2 2 2 2 2 2 2 2 2 2 2 2 2 2 2 1 2 2 1 2 1 2 1 2 2 1 2 2 2 2 2 2 2 1 2 2\n",
      " 2 2 2 2 2 2 2 2 1 2 2 2 2 2 2 2 2 2 2 2 2 1 2 1 2 2 2 2 2 2 2 2 2 2 2 2 2\n",
      " 2 1 2 2 1 1 2 2 2 2 2 1 2 2 2 2 2 2 2 2 2 1 2 2 2 2 2 2 2 2 2 1 2 2 2 2 2\n",
      " 2 2 2 1 1 2 2 2 2 2 2 2 0 0 2 0 0 0 0 0 0 0 0 0 0 0 0 0 0 0 0 0 0 0]\n",
      "True label 2\n",
      "2 ===========================\n",
      "Prediction: [1 1 2 2 2 2 2 2 1 2 2 2 2 2 2 2 1 2 2 2 2 2 2 2 2 2 1 2 2 2 1 0 2 2 2 2 2\n",
      " 2 2 1 2 2 2 2 2 2 2 2 2 2 2 1 2 2 2 2 2 2 2 2 2 2 2 2 2 2 2 2 2 2 2 2 2 2\n",
      " 2 2 2 1 1 2 2 2 2 2 2 2 2 2 2 2 1 2 2 2 2 2 1 2 2 2 2 1 2 1 2 2 2 2 2 2 2\n",
      " 2 2 2 2 2 2 2 2 2 2 2 2 2 2 2 2 2 2 2 2 2 2 2 2 2 2 2 2 2 2 2 2 2 2 2 2 0\n",
      " 2 0 2 0 2 2 2 2 0 2 2 2 2 2 2 2 2 2 2 2 2 2 2 2 1 2 2 2 2 0 2 0 2 0 2 0 2\n",
      " 0 2 0 2 0 1 0 2 0 2 1 0 2 0 2 1 0 2 0 2 2 2 0 2 0 2 0 2 0 2 0 1 1 0]\n",
      "True label 1\n",
      "3 ===========================\n",
      "Prediction: [2 2 0 2 2 0 0 2 0 2 0 0 2 0 2 2 1 2 0 2 0 2 2 0 2 0 1 0 2 0 2 2 0 0 0 0 2\n",
      " 2 2 2 2 2 1 2 2 2 2 2 2 2 2 2 2 2 2 2 2 2 2 2 2 2 2 2 2 2 2 2 2 2 2 2 1 2\n",
      " 2 2 2 2 2 2 2 2 2 2 2 2 2 1 2 2 2 2 2 1 2 2 1 2 2 1 2 2 2 2 2 2 2 2 2 2 2\n",
      " 2 1 2 2 2 2 2 2 2 2 2 2 2 2 2 2 2 2 2 2 1 2 2 2 1 2 2 2 2 2 2 2 2 2 2 2 2\n",
      " 2 1 2 2 2 2 2 1 2 2 2 2 2 2 2 2 2 2 2 2 2 2 2 2 2 2 2 2 2 2 1 2 2 2 1 2 2\n",
      " 2 2 2 1 2 2 1 2 0 2 2 2 2 0 1 2 2 2 2 2 2 2 2 2 0 2 2 0 2 2 2 0 2 2]\n",
      "True label 2\n",
      "4 ===========================\n",
      "Prediction: [2 2 2 2 2 2 2 2 2 0 2 2 2 2 0 2 2 1 2 2 2 2 2 2 2 0 2 2 2 0 2 2 0 1 1 0 2\n",
      " 2 2 2 2 2 2 2 2 0 2 2 2 0 2 0 2 0 2 1 0 1 2 0 2 0 2 2 2 2 0 0 0 0 0 0 0 2\n",
      " 2 2 2 2 2 2 2 2 2 2 2 2 2 2 2 2 2 2 2 2 2 2 2 2 1 2 2 2 2 2 1 2 2 1 2 1 2\n",
      " 2 2 2 2 1 2 2 2 2 1 2 2 2 2 2 2 2 2 0 1 2 2 1 2 1 1 2 2 2 2 2 2 2 0 2 2 2\n",
      " 2 1 2 2 2 2 2 2 2 2 2 1 2 2 2 2 2 2 1 2 2 1 2 1 2 2 2 2 2 2 2 2 2 1 2 2 2\n",
      " 2 1 2 2 2 2 2 2 1 2 2 2 2 2 2 2 2 2 1 2 2 2 2 2 2 2 2 2 2 2 2 2 2 2]\n",
      "True label 2\n"
     ]
    }
   ],
   "source": [
    "counter = 0\n",
    "y_pred = []\n",
    "y_true = []\n",
    "for train_index, test_index in skf.split(X, y):\n",
    "    X_train, X_test = X[train_index], X[test_index]\n",
    "    y_train, y_test = y[train_index], y[test_index]\n",
    "    \n",
    "\n",
    "    clf = SVC(kernel = \"rbf\", C=150, gamma = 3.5737906765846592e-12, class_weight = \"balanced\")\n",
    "    #clf = SVC(kernel=kernel, gamma=ep, C=c)\n",
    "    clf.fit(X_train, y_train)\n",
    "    tmp = clf.predict(X_test)\n",
    "    y_pred.append(tmp)\n",
    "    y_true.append(y_test)\n",
    "    print (counter, '===========================')\n",
    "    print('Prediction:', tmp)\n",
    "    print('True label', y_test[0])\n",
    "    \n",
    "    counter += 1\n",
    "y_pred = np.ravel(np.asarray(y_pred))\n",
    "y_true = np.ravel(np.asarray(y_true))"
   ]
  },
  {
   "cell_type": "code",
   "execution_count": 18,
   "metadata": {},
   "outputs": [
    {
     "data": {
      "text/plain": [
       "(1095,)"
      ]
     },
     "execution_count": 18,
     "metadata": {},
     "output_type": "execute_result"
    }
   ],
   "source": [
    "y_true.shape"
   ]
  },
  {
   "cell_type": "code",
   "execution_count": 19,
   "metadata": {},
   "outputs": [
    {
     "name": "stdout",
     "output_type": "stream",
     "text": [
      "Classification report for classifier SVC(C=150, class_weight='balanced', gamma=3.5737906765846594e-12):\n",
      "              precision    recall  f1-score   support\n",
      "\n",
      "     Healthy       0.96      0.95      0.96       114\n",
      "        TNBC       0.66      0.75      0.71       102\n",
      "    Non-TNBC       0.97      0.95      0.96       879\n",
      "\n",
      "    accuracy                           0.94      1095\n",
      "   macro avg       0.87      0.89      0.87      1095\n",
      "weighted avg       0.94      0.94      0.94      1095\n",
      "\n",
      "\n",
      "          Healthy  TNBC  Non-TNBC\n",
      "Healthy       108     1         3\n",
      "TNBC            2    77        37\n",
      "Non-TNBC        4    24       839\n"
     ]
    }
   ],
   "source": [
    "print(f\"Classification report for classifier {clf}:\\n\"\n",
    "      f\"{metrics.classification_report(y_pred, y_true, target_names =['Healthy', 'TNBC', 'Non-TNBC'])}\\n\")\n",
    "print(pd.DataFrame(confusion_matrix(y_true, y_pred),\n",
    "      columns=['Healthy', 'TNBC', 'Non-TNBC'], index=['Healthy', 'TNBC', 'Non-TNBC']))"
   ]
  },
  {
   "cell_type": "code",
   "execution_count": 20,
   "metadata": {
    "scrolled": true
   },
   "outputs": [
    {
     "name": "stdout",
     "output_type": "stream",
     "text": [
      "0 ===========================\n",
      "Prediction: [2 2 2 2 2 2 2 2 0 2 2 2 2 2 2 2 1 2 2 2 2 2 2 1 2 2 2 2 2 2 1 2 2 2 2 2 2\n",
      " 2 2 2 2 2 2 1 2 1 2 2 2 2 2 2 1 2 2 2 2 2 2 2 2 2 2 1 1 2 1 2 1 2 2 2 2 2\n",
      " 2 2 1 2 2 2 2 1 2 2 2 2 2 2 2 2 2 0 2 2 2 2 2 2 2 2 2 1 1 2 2 1 2 2 2 1 2\n",
      " 2 2 2 2 2 0 2 0 2 0 2 1 0 2 2 0 1 0 2 0 2 2 2 1 2 2 2 2 2 2 2 2 2 2 2 2 2\n",
      " 1 2 2 2 2 1 1 2 1 2 2 2 2 2 2 2 2 2 2 2 2 2 2 1 2 2 2 2 2 2 2 2 1 2 2 2 2\n",
      " 2 2 2 2 2 2 2 2 2 2 2 2 2 2 2 2 2 1 2 0 0 0 0 0 0 0 0 0 0 0 0 0 0 0]\n",
      "True label 2\n",
      "1 ===========================\n",
      "Prediction: [2 2 2 2 2 2 2 2 2 2 2 2 2 2 2 2 2 1 2 2 2 2 2 2 2 2 2 2 2 2 2 2 2 2 2 2 2\n",
      " 2 2 2 2 2 1 2 2 2 2 2 0 2 2 2 1 2 2 2 2 2 2 2 2 2 2 2 2 2 2 2 2 2 2 1 2 2\n",
      " 2 2 2 2 2 1 2 2 2 2 2 2 2 2 2 2 1 2 2 1 2 1 2 1 2 2 1 2 2 2 2 2 2 2 2 2 2\n",
      " 1 2 2 2 2 2 2 2 1 2 2 2 2 2 2 2 2 2 2 2 2 1 2 1 2 2 2 2 1 1 2 2 2 2 2 2 2\n",
      " 2 1 2 2 1 1 2 1 2 2 2 1 2 2 0 2 2 1 2 2 2 1 2 2 2 2 2 2 1 2 2 1 2 2 2 2 1\n",
      " 2 2 2 1 1 2 2 2 2 2 2 2 0 0 0 0 0 0 0 0 0 0 0 0 0 0 0 0 0 0 0 0 0 0]\n",
      "True label 2\n",
      "2 ===========================\n",
      "Prediction: [1 1 2 2 2 2 2 2 1 2 2 2 2 2 2 2 1 2 2 2 2 2 2 2 2 2 1 2 2 2 1 0 2 2 2 2 2\n",
      " 2 2 1 2 2 2 0 2 2 2 2 2 2 2 1 2 2 2 2 2 2 2 2 2 2 2 2 2 2 2 2 2 2 2 2 2 2\n",
      " 2 2 2 1 1 2 2 2 2 2 2 2 2 2 2 2 1 2 2 2 2 2 1 2 2 2 2 1 2 1 2 2 2 2 2 2 2\n",
      " 2 2 2 2 2 2 2 2 2 2 2 2 1 0 2 2 2 2 2 2 2 2 2 2 2 2 2 2 2 2 2 2 2 2 2 2 0\n",
      " 2 0 2 0 2 2 2 2 0 0 2 2 2 2 2 2 2 2 2 1 2 2 2 2 1 2 1 2 2 0 2 0 2 0 2 0 2\n",
      " 0 2 0 2 0 1 0 2 0 2 1 0 2 0 2 2 0 2 0 2 2 2 0 2 0 2 0 2 0 2 0 1 1 0]\n",
      "True label 1\n",
      "3 ===========================\n",
      "Prediction: [2 2 0 2 2 0 0 2 0 2 1 0 2 0 2 2 1 2 0 2 0 2 2 0 2 0 2 0 2 0 2 2 0 0 0 0 1\n",
      " 2 2 2 2 2 1 2 2 2 2 2 2 2 2 2 2 2 2 2 2 1 2 2 2 2 2 2 2 2 2 2 2 2 2 2 1 2\n",
      " 2 2 2 2 2 2 2 2 2 2 2 2 2 1 2 2 2 2 2 2 2 2 1 2 2 1 2 2 2 2 2 2 2 2 2 2 2\n",
      " 2 1 1 2 2 2 2 2 2 2 2 2 2 2 2 2 2 2 2 2 1 2 2 2 1 2 2 2 2 2 2 2 2 2 2 2 2\n",
      " 2 1 2 1 2 2 2 2 2 2 2 2 2 2 2 2 2 2 2 2 2 2 2 2 2 2 2 2 2 2 1 2 2 2 1 2 2\n",
      " 0 2 2 1 2 2 2 2 0 2 2 2 2 0 1 2 2 2 2 2 2 2 2 2 0 2 2 0 2 2 2 0 2 2]\n",
      "True label 2\n",
      "4 ===========================\n",
      "Prediction: [2 2 2 2 2 2 2 2 2 0 2 2 2 2 0 2 2 1 2 2 2 2 2 2 2 0 2 2 2 0 2 2 0 1 1 0 1\n",
      " 2 2 2 2 2 2 2 2 0 2 0 2 0 2 0 2 0 2 1 0 1 2 0 2 0 2 2 2 2 0 0 0 0 0 0 0 2\n",
      " 2 2 2 2 2 2 2 2 2 2 2 2 2 2 2 2 2 2 2 2 2 2 2 2 1 2 2 2 2 2 1 2 2 1 2 1 2\n",
      " 2 2 2 2 1 2 2 2 2 1 2 2 2 2 1 2 0 2 0 1 2 2 1 2 1 1 2 2 2 1 2 2 2 1 2 2 2\n",
      " 2 1 2 2 2 2 2 2 2 2 2 2 2 2 2 2 2 1 1 2 2 1 2 1 2 2 1 2 2 2 2 2 2 2 2 2 2\n",
      " 2 1 2 2 2 2 2 2 1 2 2 2 2 2 2 2 2 2 1 2 2 2 1 2 2 2 2 2 2 2 2 2 1 2]\n",
      "True label 2\n"
     ]
    }
   ],
   "source": [
    "counter = 0\n",
    "y_pred = []\n",
    "y_true = []\n",
    "for train_index, test_index in skf.split(X, y):\n",
    "    X_train, X_test = X[train_index], X[test_index]\n",
    "    y_train, y_test = y[train_index], y[test_index]\n",
    "    \n",
    "\n",
    "    clf = SVC(kernel = \"linear\",C=150, gamma = 3.5737906765846592e-12, class_weight = \"balanced\")\n",
    "    #clf = SVC(kernel=kernel, gamma=ep, C=c)\n",
    "    clf.fit(X_train, y_train)\n",
    "    tmp = clf.predict(X_test)\n",
    "    y_pred.append(tmp)\n",
    "    y_true.append(y_test)\n",
    "    print (counter, '===========================')\n",
    "    print('Prediction:', tmp)\n",
    "    print('True label', y_test[0])\n",
    "    \n",
    "    counter += 1\n",
    "y_pred = np.ravel(np.asarray(y_pred))\n",
    "y_true = np.ravel(np.asarray(y_true))"
   ]
  },
  {
   "cell_type": "code",
   "execution_count": 21,
   "metadata": {
    "scrolled": true
   },
   "outputs": [
    {
     "name": "stdout",
     "output_type": "stream",
     "text": [
      "Classification report for classifier SVC(C=150, class_weight='balanced', gamma=3.5737906765846594e-12,\n",
      "    kernel='linear'):\n",
      "              precision    recall  f1-score   support\n",
      "\n",
      "     Healthy       0.98      0.92      0.95       120\n",
      "        TNBC       0.74      0.69      0.71       125\n",
      "    Non-TNBC       0.95      0.97      0.96       850\n",
      "\n",
      "    accuracy                           0.93      1095\n",
      "   macro avg       0.89      0.86      0.87      1095\n",
      "weighted avg       0.93      0.93      0.93      1095\n",
      "\n",
      "\n",
      "          Healthy  TNBC  Non-TNBC\n",
      "Healthy       110     2         0\n",
      "TNBC            3    86        27\n",
      "Non-TNBC        7    37       823\n"
     ]
    }
   ],
   "source": [
    "print(f\"Classification report for classifier {clf}:\\n\"\n",
    "      f\"{metrics.classification_report(y_pred, y_true, target_names =['Healthy', 'TNBC', 'Non-TNBC'])}\\n\")\n",
    "print(pd.DataFrame(confusion_matrix(y_true, y_pred),\n",
    "      columns=['Healthy', 'TNBC', 'Non-TNBC'], index=['Healthy', 'TNBC', 'Non-TNBC']))"
   ]
  },
  {
   "cell_type": "code",
   "execution_count": 22,
   "metadata": {},
   "outputs": [
    {
     "name": "stdout",
     "output_type": "stream",
     "text": [
      "0 ===========================\n",
      "Prediction: [2 2 2 2 2 2 2 2 0 2 2 2 2 2 2 2 2 2 2 2 2 2 2 1 2 2 2 2 2 2 1 2 2 2 2 2 2\n",
      " 2 2 2 2 2 2 1 2 1 2 2 2 2 2 2 1 2 2 2 2 2 2 2 2 2 2 1 1 2 1 2 1 2 2 2 2 2\n",
      " 2 2 1 2 2 2 2 2 2 2 2 2 2 2 2 2 2 0 2 2 2 2 2 2 1 2 2 1 1 2 2 1 2 1 2 2 2\n",
      " 2 2 2 2 2 0 2 0 2 0 2 1 0 2 2 0 2 0 2 0 2 2 2 1 2 2 2 2 2 2 2 2 2 2 2 2 2\n",
      " 2 2 2 2 2 1 1 2 1 2 2 2 2 2 2 2 2 2 2 2 2 2 2 1 2 2 2 2 2 2 1 2 1 2 2 2 2\n",
      " 2 2 2 2 2 2 2 2 2 2 2 2 2 2 1 2 2 1 2 0 0 0 0 0 0 0 0 0 0 0 0 0 0 0]\n",
      "True label 2\n",
      "1 ===========================\n",
      "Prediction: [2 2 2 2 2 2 2 2 2 2 2 2 2 2 2 2 2 2 2 2 2 2 2 2 2 2 2 2 2 2 2 2 2 2 2 2 2\n",
      " 2 2 2 2 2 1 2 2 2 2 2 0 2 1 2 2 2 2 2 2 2 2 2 2 2 2 2 2 2 2 2 2 2 2 2 2 2\n",
      " 1 2 2 2 2 1 2 2 2 2 2 2 2 2 2 2 1 2 2 2 1 1 2 1 2 2 2 2 2 2 2 2 2 2 1 2 2\n",
      " 1 2 1 2 2 2 2 2 1 2 2 2 2 2 2 2 2 2 2 2 2 1 2 1 2 2 2 2 1 1 2 2 2 2 2 2 2\n",
      " 2 1 2 2 1 1 2 2 2 2 2 1 2 2 0 2 2 1 2 2 2 1 2 2 2 2 2 2 1 2 2 1 2 2 2 2 0\n",
      " 2 2 2 1 1 2 2 2 2 2 2 2 0 0 1 0 0 0 0 0 0 0 0 0 0 0 0 0 0 0 0 0 0 0]\n",
      "True label 2\n",
      "2 ===========================\n",
      "Prediction: [1 1 2 2 2 2 2 2 1 2 2 2 2 2 2 2 1 2 2 2 2 2 2 2 2 2 1 2 2 2 1 0 2 2 2 2 2\n",
      " 2 2 1 2 2 2 2 2 2 2 2 2 2 2 1 2 2 2 2 2 2 2 2 2 2 2 2 2 2 2 2 2 2 2 2 2 2\n",
      " 2 2 2 1 1 2 2 2 2 2 2 2 2 2 2 2 1 2 2 2 2 2 1 2 2 2 2 1 2 1 2 2 2 2 2 2 2\n",
      " 2 2 2 2 2 2 2 2 2 2 2 2 2 2 2 2 2 2 2 2 2 2 2 2 2 2 2 2 2 2 2 2 2 2 2 2 0\n",
      " 2 0 2 0 2 2 2 2 0 2 2 2 2 2 2 2 2 2 2 2 2 2 2 2 1 2 1 2 2 0 2 0 2 0 2 0 2\n",
      " 0 2 0 2 0 1 0 2 0 2 1 0 2 0 2 1 0 2 0 2 2 2 0 2 0 2 0 2 0 2 0 1 1 0]\n",
      "True label 1\n",
      "3 ===========================\n",
      "Prediction: [2 2 0 2 2 0 0 2 0 2 0 0 2 0 2 2 1 2 0 2 0 2 2 0 2 0 1 0 2 0 2 2 0 0 0 0 2\n",
      " 2 2 2 2 2 1 2 2 2 2 2 2 2 2 2 2 2 2 2 2 2 2 2 2 2 2 2 2 2 2 2 2 2 2 2 1 2\n",
      " 2 2 2 2 2 2 2 2 2 2 2 2 2 1 2 2 2 2 2 1 2 2 1 2 2 1 2 2 2 2 2 2 2 2 2 2 2\n",
      " 2 1 2 2 2 2 2 2 2 2 2 2 2 2 2 2 2 2 2 2 1 2 2 2 1 2 2 2 2 2 2 2 2 2 2 2 2\n",
      " 2 1 2 2 2 2 2 2 2 2 2 2 2 2 2 2 2 2 2 2 2 2 2 2 2 2 2 2 2 2 1 2 2 2 1 2 2\n",
      " 2 2 2 2 2 2 1 2 0 2 2 2 2 0 1 2 2 2 2 2 2 2 2 2 0 2 2 0 2 2 2 0 2 2]\n",
      "True label 2\n",
      "4 ===========================\n",
      "Prediction: [2 2 2 2 2 2 2 2 1 0 2 2 2 2 0 2 2 1 2 2 2 2 2 2 2 0 2 2 2 0 2 2 0 1 1 0 1\n",
      " 2 2 2 2 2 2 2 2 0 2 2 2 0 2 0 2 0 2 1 0 1 2 0 2 0 2 2 2 2 0 0 0 0 0 0 0 2\n",
      " 2 2 2 2 2 2 2 2 2 2 2 2 2 2 2 2 2 2 2 2 2 2 2 2 1 2 2 2 2 2 1 2 2 1 2 1 2\n",
      " 2 2 2 2 1 2 2 2 2 1 2 2 2 2 2 2 0 2 0 1 2 2 1 2 1 2 2 2 2 2 2 2 2 0 2 2 2\n",
      " 2 1 2 2 2 2 2 2 2 2 2 2 2 2 2 2 2 1 1 2 2 1 2 1 2 2 2 2 2 2 2 2 2 1 2 2 2\n",
      " 2 1 2 2 2 2 2 2 1 2 2 2 2 2 2 2 2 2 1 2 2 2 2 2 2 2 2 2 2 2 2 2 2 2]\n",
      "True label 2\n"
     ]
    }
   ],
   "source": [
    "counter = 0\n",
    "y_pred = []\n",
    "y_true = []\n",
    "for train_index, test_index in skf.split(X, y):\n",
    "    X_train, X_test = X[train_index], X[test_index]\n",
    "    y_train, y_test = y[train_index], y[test_index]\n",
    "    \n",
    "\n",
    "    clf = SVC(kernel = \"poly\",C=150, gamma = 3.5737906765846592e-12)\n",
    "    #clf = SVC(kernel=kernel, gamma=ep, C=c)\n",
    "    clf.fit(X_train, y_train)\n",
    "    tmp = clf.predict(X_test)\n",
    "    y_pred.append(tmp)\n",
    "    y_true.append(y_test)\n",
    "    print (counter, '===========================')\n",
    "    print('Prediction:', tmp)\n",
    "    print('True label', y_test[0])\n",
    "    \n",
    "    counter += 1\n",
    "y_pred = np.ravel(np.asarray(y_pred))\n",
    "y_true = np.ravel(np.asarray(y_true))"
   ]
  },
  {
   "cell_type": "code",
   "execution_count": 23,
   "metadata": {},
   "outputs": [
    {
     "name": "stdout",
     "output_type": "stream",
     "text": [
      "Classification report for classifier SVC(C=150, gamma=3.5737906765846594e-12, kernel='poly'):\n",
      "              precision    recall  f1-score   support\n",
      "\n",
      "     Healthy       0.97      0.93      0.95       117\n",
      "        TNBC       0.70      0.71      0.70       114\n",
      "    Non-TNBC       0.96      0.96      0.96       864\n",
      "\n",
      "    accuracy                           0.93      1095\n",
      "   macro avg       0.88      0.87      0.87      1095\n",
      "weighted avg       0.93      0.93      0.93      1095\n",
      "\n",
      "\n",
      "          Healthy  TNBC  Non-TNBC\n",
      "Healthy       109     2         1\n",
      "TNBC            2    81        33\n",
      "Non-TNBC        6    31       830\n"
     ]
    }
   ],
   "source": [
    "print(f\"Classification report for classifier {clf}:\\n\"\n",
    "      f\"{metrics.classification_report(y_pred, y_true, target_names =['Healthy', 'TNBC', 'Non-TNBC'])}\\n\")\n",
    "print(pd.DataFrame(confusion_matrix(y_true, y_pred),\n",
    "      columns=['Healthy', 'TNBC', 'Non-TNBC'], index=['Healthy', 'TNBC', 'Non-TNBC']))"
   ]
  },
  {
   "cell_type": "code",
   "execution_count": 24,
   "metadata": {},
   "outputs": [
    {
     "name": "stdout",
     "output_type": "stream",
     "text": [
      "0 ===========================\n",
      "Prediction: [2 2 2 2 2 2 2 2 2 2 2 2 2 2 2 2 1 2 2 1 2 2 2 1 2 2 2 2 2 2 1 2 2 2 2 2 2\n",
      " 2 2 2 2 2 2 1 2 1 2 2 2 2 2 2 2 2 2 2 2 2 2 2 2 2 2 2 1 2 1 2 1 2 2 2 2 2\n",
      " 2 2 1 2 2 2 2 1 2 2 2 2 2 2 2 2 2 0 2 2 2 2 2 2 1 2 2 1 2 2 1 1 2 1 2 1 2\n",
      " 2 2 2 2 2 0 2 0 2 0 2 1 0 2 1 0 1 0 2 0 2 2 2 1 2 2 2 2 2 2 2 2 2 2 2 2 2\n",
      " 1 2 2 2 2 1 1 2 1 2 2 2 2 2 2 2 2 2 2 2 2 2 2 1 2 2 2 2 2 2 1 2 1 2 1 2 2\n",
      " 2 2 2 2 2 2 2 2 2 2 2 2 2 2 2 2 2 1 2 0 0 0 0 0 0 0 0 0 0 0 0 0 0 0]\n",
      "True label 2\n",
      "1 ===========================\n",
      "Prediction: [2 2 2 2 2 2 2 2 2 2 2 2 2 2 2 2 2 2 2 2 2 2 2 2 2 2 2 2 2 2 2 2 2 2 2 2 2\n",
      " 2 2 2 2 2 1 2 2 2 2 2 0 2 1 2 2 2 2 2 2 2 2 2 2 2 2 2 2 2 2 2 2 2 2 2 2 2\n",
      " 1 2 2 2 2 2 2 2 2 2 2 2 2 2 2 2 1 2 2 1 2 1 2 1 2 2 1 2 2 2 2 2 2 2 1 2 2\n",
      " 1 2 2 2 2 2 2 2 1 2 2 2 2 2 2 2 2 2 2 2 2 1 2 1 2 2 2 2 2 2 2 2 2 2 2 2 1\n",
      " 2 1 2 2 1 1 2 2 2 2 2 1 2 2 0 2 2 1 2 2 2 1 2 2 2 2 2 2 1 2 2 1 2 2 2 2 2\n",
      " 2 2 2 1 1 2 2 2 2 2 2 2 0 0 0 0 0 0 0 0 0 0 0 2 0 0 0 0 0 0 0 2 0 0]\n",
      "True label 2\n",
      "2 ===========================\n",
      "Prediction: [1 1 2 2 2 2 2 2 1 2 2 2 2 2 2 2 1 2 2 2 2 2 2 2 2 2 1 2 2 2 1 2 2 2 2 2 2\n",
      " 2 2 1 2 2 2 1 2 2 2 2 2 2 2 1 2 2 2 2 2 2 2 2 2 2 2 2 2 2 2 2 2 2 2 2 2 2\n",
      " 2 2 2 1 1 2 1 2 2 2 2 2 2 2 2 2 1 2 2 2 2 2 1 2 2 2 2 1 2 1 2 2 2 2 2 2 2\n",
      " 2 2 2 2 2 2 2 2 2 2 2 2 1 2 2 2 2 2 2 2 2 2 2 2 2 2 2 2 2 2 2 2 2 2 2 2 0\n",
      " 2 0 2 0 2 2 2 2 0 2 2 2 2 2 2 2 2 2 2 2 2 2 2 2 1 2 1 2 2 0 2 0 2 0 2 0 2\n",
      " 0 2 0 2 0 1 0 2 0 2 1 0 2 0 1 1 0 2 0 2 2 2 0 2 0 2 0 2 0 2 0 1 1 2]\n",
      "True label 1\n",
      "3 ===========================\n",
      "Prediction: [2 2 0 2 2 0 0 2 0 2 0 0 2 0 2 2 0 2 0 2 0 2 2 0 2 0 2 0 2 0 2 2 0 0 0 0 2\n",
      " 0 2 2 2 2 1 2 2 2 2 2 2 2 2 2 2 2 2 2 2 1 2 2 2 2 2 2 2 2 2 2 2 2 2 2 1 2\n",
      " 2 2 2 2 2 2 2 2 2 2 2 2 2 1 2 2 2 2 2 2 2 2 1 2 2 1 2 2 2 2 2 2 2 2 2 2 2\n",
      " 2 1 1 2 2 2 2 2 2 2 2 2 2 2 2 2 2 2 2 2 1 2 2 2 1 2 2 2 2 2 2 2 2 2 2 2 2\n",
      " 2 1 2 1 2 2 2 1 2 2 2 2 2 2 2 2 2 2 2 2 2 2 2 2 2 2 2 2 2 2 1 2 2 2 1 2 2\n",
      " 2 2 2 1 1 2 1 2 0 2 2 2 2 0 2 2 2 2 2 2 2 2 2 2 0 2 2 0 2 2 2 0 2 2]\n",
      "True label 2\n",
      "4 ===========================\n",
      "Prediction: [2 2 2 2 2 2 2 2 2 0 2 2 2 2 0 2 2 1 2 2 2 2 2 2 2 0 2 2 2 0 2 2 0 1 2 0 2\n",
      " 2 2 2 2 2 2 2 2 0 2 0 2 0 2 0 2 0 2 1 0 1 2 0 2 0 2 2 2 2 0 0 0 0 0 0 0 2\n",
      " 2 2 2 2 1 2 2 2 2 2 2 2 2 2 2 2 2 2 2 2 2 2 2 2 1 2 2 2 2 2 1 2 2 1 2 1 2\n",
      " 2 2 2 2 1 2 2 2 2 1 2 2 2 2 1 2 2 2 0 1 2 2 2 2 1 2 2 2 2 2 2 2 2 2 2 2 2\n",
      " 2 1 2 2 2 2 2 2 2 2 2 2 2 2 2 2 2 2 1 2 2 1 1 2 2 2 1 2 2 2 2 2 2 2 2 2 2\n",
      " 2 1 2 2 2 2 2 2 1 2 2 2 2 2 2 2 2 1 1 2 2 2 2 2 2 2 2 2 2 2 2 2 2 2]\n",
      "True label 2\n"
     ]
    }
   ],
   "source": [
    "counter = 0\n",
    "y_pred = []\n",
    "y_true = []\n",
    "for train_index, test_index in skf.split(X, y):\n",
    "    X_train, X_test = X[train_index], X[test_index]\n",
    "    y_train, y_test = y[train_index], y[test_index]\n",
    "    \n",
    "\n",
    "    rf = RandomForestClassifier()\n",
    "    rf.fit(X_train, y_train)\n",
    "    tmp = rf.predict(X_test)\n",
    "    y_pred.append(tmp)\n",
    "    y_true.append(y_test)\n",
    "    print (counter, '===========================')\n",
    "    print('Prediction:', tmp)\n",
    "    print('True label', y_test[0])\n",
    "    \n",
    "    counter += 1\n",
    "y_pred = np.ravel(np.asarray(y_pred))\n",
    "y_true = np.ravel(np.asarray(y_true))\n",
    "   "
   ]
  },
  {
   "cell_type": "code",
   "execution_count": 25,
   "metadata": {
    "scrolled": false
   },
   "outputs": [
    {
     "name": "stdout",
     "output_type": "stream",
     "text": [
      "Classification report for classifier RandomForestClassifier():\n",
      "              precision    recall  f1-score   support\n",
      "\n",
      "     Healthy       0.97      0.96      0.97       113\n",
      "        TNBC       0.77      0.74      0.75       120\n",
      "    Non-TNBC       0.96      0.97      0.96       862\n",
      "\n",
      "    accuracy                           0.94      1095\n",
      "   macro avg       0.90      0.89      0.90      1095\n",
      "weighted avg       0.94      0.94      0.94      1095\n",
      "\n",
      "\n",
      "          Healthy  TNBC  Non-TNBC\n",
      "Healthy       109     0         3\n",
      "TNBC            1    89        26\n",
      "Non-TNBC        3    31       833\n"
     ]
    }
   ],
   "source": [
    "print(f\"Classification report for classifier {rf}:\\n\"\n",
    "      f\"{metrics.classification_report(y_pred, y_true, target_names =['Healthy', 'TNBC', 'Non-TNBC'])}\\n\")\n",
    "print(pd.DataFrame(confusion_matrix(y_true, y_pred),\n",
    "      columns=['Healthy', 'TNBC', 'Non-TNBC'], index=['Healthy', 'TNBC', 'Non-TNBC']))"
   ]
  },
  {
   "cell_type": "code",
   "execution_count": 26,
   "metadata": {},
   "outputs": [
    {
     "name": "stdout",
     "output_type": "stream",
     "text": [
      "          Healthy  TNBC  Non-TNBC\n",
      "Healthy       109     0         3\n",
      "TNBC            1    89        26\n",
      "Non-TNBC        3    31       833\n"
     ]
    }
   ],
   "source": [
    "print(pd.DataFrame(confusion_matrix(y_true, y_pred),\n",
    "      columns=['Healthy', 'TNBC', 'Non-TNBC'], index=['Healthy', 'TNBC', 'Non-TNBC']))\n"
   ]
  },
  {
   "cell_type": "code",
   "execution_count": 28,
   "metadata": {},
   "outputs": [
    {
     "name": "stdout",
     "output_type": "stream",
     "text": [
      "Run-time 0:03:34.541350\n"
     ]
    }
   ],
   "source": [
    "print('Run-time', datetime.now() - start)"
   ]
  },
  {
   "cell_type": "code",
   "execution_count": null,
   "metadata": {},
   "outputs": [],
   "source": []
  }
 ],
 "metadata": {
  "kernelspec": {
   "display_name": "Python 3",
   "language": "python",
   "name": "python3"
  },
  "language_info": {
   "codemirror_mode": {
    "name": "ipython",
    "version": 3
   },
   "file_extension": ".py",
   "mimetype": "text/x-python",
   "name": "python",
   "nbconvert_exporter": "python",
   "pygments_lexer": "ipython3",
   "version": "3.6.10"
  }
 },
 "nbformat": 4,
 "nbformat_minor": 4
}
