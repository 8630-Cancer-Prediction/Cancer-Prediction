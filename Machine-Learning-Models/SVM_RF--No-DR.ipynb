{
 "cells": [
  {
   "cell_type": "code",
   "execution_count": 1,
   "metadata": {},
   "outputs": [],
   "source": [
    "import pandas as pd\n",
    "from sklearn import datasets, svm, metrics\n",
    "from sklearn.model_selection import train_test_split\n"
   ]
  },
  {
   "cell_type": "code",
   "execution_count": 2,
   "metadata": {},
   "outputs": [],
   "source": [
    "from sklearn.preprocessing import StandardScaler \n",
    "from sklearn.model_selection import train_test_split\n",
    "from sklearn.svm import SVC \n",
    "from sklearn.ensemble import RandomForestClassifier\n",
    "from sklearn.ensemble import AdaBoostClassifier\n",
    "from sklearn.preprocessing import LabelEncoder\n",
    "from sklearn.model_selection import LeaveOneOut\n",
    "from sklearn.neighbors import KNeighborsClassifier \n",
    "from sklearn.metrics import accuracy_score, precision_score, recall_score, confusion_matrix\n",
    "import joblib"
   ]
  },
  {
   "cell_type": "code",
   "execution_count": 3,
   "metadata": {},
   "outputs": [],
   "source": [
    "from sklearn.model_selection import StratifiedKFold, KFold\n",
    "import numpy as np"
   ]
  },
  {
   "cell_type": "code",
   "execution_count": 4,
   "metadata": {},
   "outputs": [],
   "source": [
    "from datetime import datetime\n",
    "start = datetime.now()"
   ]
  },
  {
   "cell_type": "code",
   "execution_count": 5,
   "metadata": {},
   "outputs": [],
   "source": [
    "original_data = pd.read_csv (\"Preprocessed_Data_With_Class_Encoded.csv\")"
   ]
  },
  {
   "cell_type": "code",
   "execution_count": 6,
   "metadata": {},
   "outputs": [
    {
     "data": {
      "text/plain": [
       "1095"
      ]
     },
     "execution_count": 6,
     "metadata": {},
     "output_type": "execute_result"
    }
   ],
   "source": [
    "n_samples = len(original_data.index)\n",
    "n_samples"
   ]
  },
  {
   "cell_type": "code",
   "execution_count": 7,
   "metadata": {},
   "outputs": [
    {
     "data": {
      "text/plain": [
       "array([2, 2, 2, ..., 2, 2, 2])"
      ]
     },
     "execution_count": 7,
     "metadata": {},
     "output_type": "execute_result"
    }
   ],
   "source": [
    "y = original_data['Class'].values # Class labels array\n",
    "\n",
    "original_data['Class'].values"
   ]
  },
  {
   "cell_type": "code",
   "execution_count": 16,
   "metadata": {},
   "outputs": [
    {
     "data": {
      "text/plain": [
       "(1095,)"
      ]
     },
     "execution_count": 16,
     "metadata": {},
     "output_type": "execute_result"
    }
   ],
   "source": [
    "y.shape"
   ]
  },
  {
   "cell_type": "code",
   "execution_count": 8,
   "metadata": {},
   "outputs": [
    {
     "data": {
      "text/plain": [
       "2    867\n",
       "1    116\n",
       "0    112\n",
       "Name: Class, dtype: int64"
      ]
     },
     "execution_count": 8,
     "metadata": {},
     "output_type": "execute_result"
    }
   ],
   "source": [
    "original_data['Class'].value_counts()"
   ]
  },
  {
   "cell_type": "code",
   "execution_count": 9,
   "metadata": {},
   "outputs": [],
   "source": [
    "original_data = original_data.drop('Sample-id', axis=1)"
   ]
  },
  {
   "cell_type": "code",
   "execution_count": 10,
   "metadata": {},
   "outputs": [
    {
     "data": {
      "text/plain": [
       "array(['Class', '?|100130426', '?|100133144', ..., 'ZZZ3|26009',\n",
       "       'psiTPTE22|387590', 'tAKR|389932'], dtype=object)"
      ]
     },
     "execution_count": 10,
     "metadata": {},
     "output_type": "execute_result"
    }
   ],
   "source": [
    "original_data.columns.values"
   ]
  },
  {
   "cell_type": "code",
   "execution_count": 11,
   "metadata": {},
   "outputs": [],
   "source": [
    "genes = original_data.columns.values [1:-1] #select only columns for genes"
   ]
  },
  {
   "cell_type": "code",
   "execution_count": 12,
   "metadata": {},
   "outputs": [],
   "source": [
    "X = original_data[genes].values # features array"
   ]
  },
  {
   "cell_type": "code",
   "execution_count": 13,
   "metadata": {},
   "outputs": [],
   "source": [
    "skf = StratifiedKFold(n_splits=5) # 5-fold cross validation\n",
    "kf = KFold(n_splits=5)\n",
    "counter = 0\n",
    "y_pred = []\n",
    "y_true = []"
   ]
  },
  {
   "cell_type": "code",
   "execution_count": 15,
   "metadata": {
    "scrolled": false
   },
   "outputs": [
    {
     "name": "stdout",
     "output_type": "stream",
     "text": [
      "0 ===========================\n",
      "Classification report for classifier SVC(C=87, gamma=3.846472070253253e-13):\n",
      "              precision    recall  f1-score   support\n",
      "\n",
      "     Healthy       1.00      0.78      0.88         9\n",
      "        TNBC       0.78      0.69      0.73        26\n",
      "    Non-TNBC       0.95      0.98      0.97       184\n",
      "\n",
      "    accuracy                           0.94       219\n",
      "   macro avg       0.91      0.82      0.86       219\n",
      "weighted avg       0.93      0.94      0.93       219\n",
      "\n",
      "\n",
      "          Healthy  TNBC  Non-TNBC\n",
      "Healthy         7     0         0\n",
      "TNBC            1    18         4\n",
      "Non-TNBC        1     8       180\n",
      "1 ===========================\n",
      "Classification report for classifier SVC(C=87, gamma=3.846472070253253e-13):\n",
      "              precision    recall  f1-score   support\n",
      "\n",
      "     Healthy       1.00      0.67      0.80         6\n",
      "        TNBC       0.82      0.70      0.75        33\n",
      "    Non-TNBC       0.94      0.97      0.95       180\n",
      "\n",
      "    accuracy                           0.92       219\n",
      "   macro avg       0.92      0.78      0.84       219\n",
      "weighted avg       0.92      0.92      0.92       219\n",
      "\n",
      "\n",
      "          Healthy  TNBC  Non-TNBC\n",
      "Healthy         4     0         0\n",
      "TNBC            0    23         5\n",
      "Non-TNBC        2    10       175\n",
      "2 ===========================\n",
      "Classification report for classifier SVC(C=87, gamma=3.846472070253253e-13):\n",
      "              precision    recall  f1-score   support\n",
      "\n",
      "     Healthy       1.00      1.00      1.00        56\n",
      "        TNBC       0.69      0.79      0.73        14\n",
      "    Non-TNBC       0.98      0.97      0.97       149\n",
      "\n",
      "    accuracy                           0.96       219\n",
      "   macro avg       0.89      0.92      0.90       219\n",
      "weighted avg       0.97      0.96      0.96       219\n",
      "\n",
      "\n",
      "          Healthy  TNBC  Non-TNBC\n",
      "Healthy        56     0         0\n",
      "TNBC            0    11         5\n",
      "Non-TNBC        0     3       144\n",
      "3 ===========================\n",
      "Classification report for classifier SVC(C=87, gamma=3.846472070253253e-13):\n",
      "              precision    recall  f1-score   support\n",
      "\n",
      "     Healthy       1.00      0.96      0.98        23\n",
      "        TNBC       0.68      0.94      0.79        18\n",
      "    Non-TNBC       0.99      0.96      0.98       178\n",
      "\n",
      "    accuracy                           0.96       219\n",
      "   macro avg       0.89      0.95      0.92       219\n",
      "weighted avg       0.97      0.96      0.96       219\n",
      "\n",
      "\n",
      "          Healthy  TNBC  Non-TNBC\n",
      "Healthy        22     0         0\n",
      "TNBC            1    17         7\n",
      "Non-TNBC        0     1       171\n",
      "4 ===========================\n",
      "Classification report for classifier SVC(C=87, gamma=3.846472070253253e-13):\n",
      "              precision    recall  f1-score   support\n",
      "\n",
      "     Healthy       0.91      0.95      0.93        22\n",
      "        TNBC       0.71      0.68      0.69        25\n",
      "    Non-TNBC       0.95      0.95      0.95       172\n",
      "\n",
      "    accuracy                           0.92       219\n",
      "   macro avg       0.86      0.86      0.86       219\n",
      "weighted avg       0.92      0.92      0.92       219\n",
      "\n",
      "\n",
      "          Healthy  TNBC  Non-TNBC\n",
      "Healthy        21     0         2\n",
      "TNBC            0    17         7\n",
      "Non-TNBC        1     8       163\n",
      "0 ===========================\n",
      "Classification report for classifier SVC(C=87, kernel='linear'):\n",
      "              precision    recall  f1-score   support\n",
      "\n",
      "     Healthy       1.00      0.78      0.88         9\n",
      "        TNBC       0.83      0.73      0.78        26\n",
      "    Non-TNBC       0.96      0.98      0.97       184\n",
      "\n",
      "    accuracy                           0.95       219\n",
      "   macro avg       0.93      0.83      0.87       219\n",
      "weighted avg       0.94      0.95      0.94       219\n",
      "\n",
      "\n",
      "          Healthy  TNBC  Non-TNBC\n",
      "Healthy         7     0         0\n",
      "TNBC            1    19         3\n",
      "Non-TNBC        1     7       181\n",
      "1 ===========================\n",
      "Classification report for classifier SVC(C=87, kernel='linear'):\n",
      "              precision    recall  f1-score   support\n",
      "\n",
      "     Healthy       1.00      0.67      0.80         6\n",
      "        TNBC       0.79      0.65      0.71        34\n",
      "    Non-TNBC       0.93      0.97      0.95       179\n",
      "\n",
      "    accuracy                           0.91       219\n",
      "   macro avg       0.90      0.76      0.82       219\n",
      "weighted avg       0.91      0.91      0.90       219\n",
      "\n",
      "\n",
      "          Healthy  TNBC  Non-TNBC\n",
      "Healthy         4     0         0\n",
      "TNBC            0    22         6\n",
      "Non-TNBC        2    12       173\n",
      "2 ===========================\n",
      "Classification report for classifier SVC(C=87, kernel='linear'):\n",
      "              precision    recall  f1-score   support\n",
      "\n",
      "     Healthy       0.98      0.98      0.98        56\n",
      "        TNBC       0.62      0.77      0.69        13\n",
      "    Non-TNBC       0.98      0.96      0.97       150\n",
      "\n",
      "    accuracy                           0.95       219\n",
      "   macro avg       0.86      0.90      0.88       219\n",
      "weighted avg       0.96      0.95      0.96       219\n",
      "\n",
      "\n",
      "          Healthy  TNBC  Non-TNBC\n",
      "Healthy        55     0         1\n",
      "TNBC            1    10         5\n",
      "Non-TNBC        0     3       144\n",
      "3 ===========================\n",
      "Classification report for classifier SVC(C=87, kernel='linear'):\n",
      "              precision    recall  f1-score   support\n",
      "\n",
      "     Healthy       0.95      0.91      0.93        23\n",
      "        TNBC       0.64      0.73      0.68        22\n",
      "    Non-TNBC       0.97      0.95      0.96       174\n",
      "\n",
      "    accuracy                           0.93       219\n",
      "   macro avg       0.85      0.86      0.86       219\n",
      "weighted avg       0.93      0.93      0.93       219\n",
      "\n",
      "\n",
      "          Healthy  TNBC  Non-TNBC\n",
      "Healthy        21     1         0\n",
      "TNBC            1    16         8\n",
      "Non-TNBC        1     5       166\n",
      "4 ===========================\n",
      "Classification report for classifier SVC(C=87, kernel='linear'):\n",
      "              precision    recall  f1-score   support\n",
      "\n",
      "     Healthy       1.00      1.00      1.00        23\n",
      "        TNBC       0.79      0.63      0.70        30\n",
      "    Non-TNBC       0.94      0.97      0.95       166\n",
      "\n",
      "    accuracy                           0.93       219\n",
      "   macro avg       0.91      0.87      0.89       219\n",
      "weighted avg       0.92      0.93      0.92       219\n",
      "\n",
      "\n",
      "          Healthy  TNBC  Non-TNBC\n",
      "Healthy        23     0         0\n",
      "TNBC            0    19         5\n",
      "Non-TNBC        0    11       161\n",
      "0 ===========================\n",
      "Classification report for classifier SVC(C=87, kernel='poly'):\n",
      "              precision    recall  f1-score   support\n",
      "\n",
      "     Healthy       1.00      0.78      0.88         9\n",
      "        TNBC       0.78      0.75      0.77        24\n",
      "    Non-TNBC       0.96      0.98      0.97       186\n",
      "\n",
      "    accuracy                           0.95       219\n",
      "   macro avg       0.92      0.84      0.87       219\n",
      "weighted avg       0.94      0.95      0.94       219\n",
      "\n",
      "\n",
      "          Healthy  TNBC  Non-TNBC\n",
      "Healthy         7     0         0\n",
      "TNBC            1    18         4\n",
      "Non-TNBC        1     6       182\n",
      "1 ===========================\n",
      "Classification report for classifier SVC(C=87, kernel='poly'):\n",
      "              precision    recall  f1-score   support\n",
      "\n",
      "     Healthy       1.00      0.67      0.80         6\n",
      "        TNBC       0.86      0.73      0.79        33\n",
      "    Non-TNBC       0.94      0.98      0.96       180\n",
      "\n",
      "    accuracy                           0.93       219\n",
      "   macro avg       0.93      0.79      0.85       219\n",
      "weighted avg       0.93      0.93      0.93       219\n",
      "\n",
      "\n",
      "          Healthy  TNBC  Non-TNBC\n",
      "Healthy         4     0         0\n",
      "TNBC            0    24         4\n",
      "Non-TNBC        2     9       176\n",
      "2 ===========================\n",
      "Classification report for classifier SVC(C=87, kernel='poly'):\n",
      "              precision    recall  f1-score   support\n",
      "\n",
      "     Healthy       1.00      1.00      1.00        56\n",
      "        TNBC       0.69      0.79      0.73        14\n",
      "    Non-TNBC       0.98      0.97      0.97       149\n",
      "\n",
      "    accuracy                           0.96       219\n",
      "   macro avg       0.89      0.92      0.90       219\n",
      "weighted avg       0.97      0.96      0.96       219\n",
      "\n",
      "\n",
      "          Healthy  TNBC  Non-TNBC\n",
      "Healthy        56     0         0\n",
      "TNBC            0    11         5\n",
      "Non-TNBC        0     3       144\n",
      "3 ===========================\n",
      "Classification report for classifier SVC(C=87, kernel='poly'):\n",
      "              precision    recall  f1-score   support\n",
      "\n",
      "     Healthy       1.00      0.96      0.98        23\n",
      "        TNBC       0.64      0.84      0.73        19\n",
      "    Non-TNBC       0.98      0.95      0.97       177\n",
      "\n",
      "    accuracy                           0.95       219\n",
      "   macro avg       0.87      0.92      0.89       219\n",
      "weighted avg       0.95      0.95      0.95       219\n",
      "\n",
      "\n",
      "          Healthy  TNBC  Non-TNBC\n",
      "Healthy        22     0         0\n",
      "TNBC            1    16         8\n",
      "Non-TNBC        0     3       169\n"
     ]
    },
    {
     "name": "stdout",
     "output_type": "stream",
     "text": [
      "4 ===========================\n",
      "Classification report for classifier SVC(C=87, kernel='poly'):\n",
      "              precision    recall  f1-score   support\n",
      "\n",
      "     Healthy       0.96      1.00      0.98        22\n",
      "        TNBC       0.67      0.64      0.65        25\n",
      "    Non-TNBC       0.95      0.95      0.95       172\n",
      "\n",
      "    accuracy                           0.92       219\n",
      "   macro avg       0.86      0.86      0.86       219\n",
      "weighted avg       0.92      0.92      0.92       219\n",
      "\n",
      "\n",
      "          Healthy  TNBC  Non-TNBC\n",
      "Healthy        22     0         1\n",
      "TNBC            0    16         8\n",
      "Non-TNBC        0     9       163\n",
      "0 ===========================\n",
      "Classification report for classifier RandomForestClassifier():\n",
      "              precision    recall  f1-score   support\n",
      "\n",
      "     Healthy       1.00      0.88      0.93         8\n",
      "        TNBC       0.87      0.74      0.80        27\n",
      "    Non-TNBC       0.96      0.99      0.98       184\n",
      "\n",
      "    accuracy                           0.95       219\n",
      "   macro avg       0.94      0.87      0.90       219\n",
      "weighted avg       0.95      0.95      0.95       219\n",
      "\n",
      "\n",
      "          Healthy  TNBC  Non-TNBC\n",
      "Healthy         7     0         0\n",
      "TNBC            1    20         2\n",
      "Non-TNBC        0     7       182\n",
      "1 ===========================\n",
      "Classification report for classifier RandomForestClassifier():\n",
      "              precision    recall  f1-score   support\n",
      "\n",
      "     Healthy       0.75      0.60      0.67         5\n",
      "        TNBC       0.75      0.72      0.74        29\n",
      "    Non-TNBC       0.95      0.96      0.95       185\n",
      "\n",
      "    accuracy                           0.92       219\n",
      "   macro avg       0.82      0.76      0.79       219\n",
      "weighted avg       0.92      0.92      0.92       219\n",
      "\n",
      "\n",
      "          Healthy  TNBC  Non-TNBC\n",
      "Healthy         3     0         1\n",
      "TNBC            0    21         7\n",
      "Non-TNBC        2     8       177\n",
      "2 ===========================\n",
      "Classification report for classifier RandomForestClassifier():\n",
      "              precision    recall  f1-score   support\n",
      "\n",
      "     Healthy       0.93      1.00      0.96        52\n",
      "        TNBC       0.81      0.76      0.79        17\n",
      "    Non-TNBC       0.97      0.95      0.96       150\n",
      "\n",
      "    accuracy                           0.95       219\n",
      "   macro avg       0.90      0.91      0.90       219\n",
      "weighted avg       0.95      0.95      0.95       219\n",
      "\n",
      "\n",
      "          Healthy  TNBC  Non-TNBC\n",
      "Healthy        52     0         4\n",
      "TNBC            0    13         3\n",
      "Non-TNBC        0     4       143\n",
      "3 ===========================\n",
      "Classification report for classifier RandomForestClassifier():\n",
      "              precision    recall  f1-score   support\n",
      "\n",
      "     Healthy       1.00      0.96      0.98        23\n",
      "        TNBC       0.68      0.85      0.76        20\n",
      "    Non-TNBC       0.98      0.95      0.97       176\n",
      "\n",
      "    accuracy                           0.95       219\n",
      "   macro avg       0.89      0.92      0.90       219\n",
      "weighted avg       0.95      0.95      0.95       219\n",
      "\n",
      "\n",
      "          Healthy  TNBC  Non-TNBC\n",
      "Healthy        22     0         0\n",
      "TNBC            0    17         8\n",
      "Non-TNBC        1     3       168\n",
      "4 ===========================\n",
      "Classification report for classifier RandomForestClassifier():\n",
      "              precision    recall  f1-score   support\n",
      "\n",
      "     Healthy       0.96      1.00      0.98        22\n",
      "        TNBC       0.67      0.67      0.67        24\n",
      "    Non-TNBC       0.95      0.95      0.95       173\n",
      "\n",
      "    accuracy                           0.92       219\n",
      "   macro avg       0.86      0.87      0.87       219\n",
      "weighted avg       0.92      0.92      0.92       219\n",
      "\n",
      "\n",
      "          Healthy  TNBC  Non-TNBC\n",
      "Healthy        22     0         1\n",
      "TNBC            0    16         8\n",
      "Non-TNBC        0     8       164\n"
     ]
    }
   ],
   "source": [
    "SVM_rbf = SVC(kernel = \"rbf\", C= 87, gamma = 3.846472070253253e-13)\n",
    "SVM_linear = SVC(kernel = \"linear\", C=87)\n",
    "SVM_poly = SVC(kernel = \"poly\", C=87)\n",
    "rf = RandomForestClassifier()\n",
    "\n",
    "classifiers= {\"SVM_rbf\":SVM_rbf, \"SVM_linear\": SVM_linear, \"SVM_poly\": SVM_poly, \"rf\": rf}\n",
    "for clfs in classifiers:\n",
    "    clf = classifiers[clfs]\n",
    "    counter = 0\n",
    "    y_pred = []\n",
    "    y_true = []\n",
    "    for train_index, test_index in kf.split(X, y):\n",
    "        X_train, X_test = X[train_index], X[test_index]\n",
    "        y_train, y_test = y[train_index], y[test_index]\n",
    "\n",
    "        #clf = SVC(kernel=kernel, gamma=ep, C=c)\n",
    "        clf.fit(X_train, y_train)\n",
    "        y_pred = clf.predict(X_test)\n",
    "        y_true = y_test\n",
    "        print (counter, '===========================')\n",
    "\n",
    "        counter += 1\n",
    "\n",
    "        print(f\"Classification report for classifier {clf}:\\n\"\n",
    "              f\"{metrics.classification_report(y_pred, y_true, target_names =['Healthy', 'TNBC', 'Non-TNBC'])}\\n\")\n",
    "        print(pd.DataFrame(confusion_matrix(y_true, y_pred),\n",
    "              columns=['Healthy', 'TNBC', 'Non-TNBC'], index=['Healthy', 'TNBC', 'Non-TNBC']))"
   ]
  },
  {
   "cell_type": "code",
   "execution_count": null,
   "metadata": {},
   "outputs": [],
   "source": [
    "print('Run-time', datetime.now() - start)"
   ]
  },
  {
   "cell_type": "code",
   "execution_count": null,
   "metadata": {},
   "outputs": [],
   "source": []
  }
 ],
 "metadata": {
  "kernelspec": {
   "display_name": "Python 3",
   "language": "python",
   "name": "python3"
  },
  "language_info": {
   "codemirror_mode": {
    "name": "ipython",
    "version": 3
   },
   "file_extension": ".py",
   "mimetype": "text/x-python",
   "name": "python",
   "nbconvert_exporter": "python",
   "pygments_lexer": "ipython3",
   "version": "3.6.10"
  }
 },
 "nbformat": 4,
 "nbformat_minor": 4
}
