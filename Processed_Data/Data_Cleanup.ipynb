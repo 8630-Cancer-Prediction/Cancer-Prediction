{
 "cells": [
  {
   "cell_type": "code",
   "execution_count": 1,
   "metadata": {},
   "outputs": [
    {
     "name": "stderr",
     "output_type": "stream",
     "text": [
      "/home/qiime2/miniconda/envs/qiime2-2020.8/lib/python3.6/site-packages/IPython/core/interactiveshell.py:3072: DtypeWarning: Columns (1) have mixed types. Specify dtype option on import or set low_memory=False.\n",
      "  interactivity=interactivity, compiler=compiler, result=result)\n"
     ]
    }
   ],
   "source": [
    "import pandas as pd\n",
    "\n",
    "labelled_norm = pd.read_csv(\"labelled_norm.csv\")"
   ]
  },
  {
   "cell_type": "code",
   "execution_count": null,
   "metadata": {
    "scrolled": false
   },
   "outputs": [],
   "source": [
    "labelled_norm.tail(5)"
   ]
  },
  {
   "cell_type": "code",
   "execution_count": 3,
   "metadata": {},
   "outputs": [],
   "source": [
    "Cleaned_data = labelled_norm.dropna()"
   ]
  },
  {
   "cell_type": "code",
   "execution_count": 4,
   "metadata": {},
   "outputs": [
    {
     "data": {
      "text/html": [
       "<div>\n",
       "<style scoped>\n",
       "    .dataframe tbody tr th:only-of-type {\n",
       "        vertical-align: middle;\n",
       "    }\n",
       "\n",
       "    .dataframe tbody tr th {\n",
       "        vertical-align: top;\n",
       "    }\n",
       "\n",
       "    .dataframe thead th {\n",
       "        text-align: right;\n",
       "    }\n",
       "</style>\n",
       "<table border=\"1\" class=\"dataframe\">\n",
       "  <thead>\n",
       "    <tr style=\"text-align: right;\">\n",
       "      <th></th>\n",
       "      <th>Sample-id</th>\n",
       "      <th>Class</th>\n",
       "      <th>?|100130426</th>\n",
       "      <th>?|100133144</th>\n",
       "      <th>?|100134869</th>\n",
       "      <th>?|10357</th>\n",
       "      <th>?|10431</th>\n",
       "      <th>?|136542</th>\n",
       "      <th>?|155060</th>\n",
       "      <th>?|26823</th>\n",
       "      <th>...</th>\n",
       "      <th>ZXDA|7789</th>\n",
       "      <th>ZXDB|158586</th>\n",
       "      <th>ZXDC|79364</th>\n",
       "      <th>ZYG11A|440590</th>\n",
       "      <th>ZYG11B|79699</th>\n",
       "      <th>ZYX|7791</th>\n",
       "      <th>ZZEF1|23140</th>\n",
       "      <th>ZZZ3|26009</th>\n",
       "      <th>psiTPTE22|387590</th>\n",
       "      <th>tAKR|389932</th>\n",
       "    </tr>\n",
       "  </thead>\n",
       "  <tbody>\n",
       "    <tr>\n",
       "      <th>0</th>\n",
       "      <td>TCGA-A1-A0SB-01</td>\n",
       "      <td>Non-TNBC</td>\n",
       "      <td>0.0</td>\n",
       "      <td>4.740894</td>\n",
       "      <td>1.850690</td>\n",
       "      <td>21.147799</td>\n",
       "      <td>85.855098</td>\n",
       "      <td>0.0</td>\n",
       "      <td>17.243281</td>\n",
       "      <td>0.827206</td>\n",
       "      <td>...</td>\n",
       "      <td>7.451490</td>\n",
       "      <td>14.145284</td>\n",
       "      <td>64.301618</td>\n",
       "      <td>2.253716</td>\n",
       "      <td>32.928424</td>\n",
       "      <td>409.424697</td>\n",
       "      <td>94.709215</td>\n",
       "      <td>71.399466</td>\n",
       "      <td>93.526242</td>\n",
       "      <td>0.825593</td>\n",
       "    </tr>\n",
       "    <tr>\n",
       "      <th>1</th>\n",
       "      <td>TCGA-A1-A0SD-01</td>\n",
       "      <td>Non-TNBC</td>\n",
       "      <td>0.0</td>\n",
       "      <td>5.538907</td>\n",
       "      <td>2.289837</td>\n",
       "      <td>13.757862</td>\n",
       "      <td>164.300537</td>\n",
       "      <td>0.0</td>\n",
       "      <td>7.731220</td>\n",
       "      <td>1.643382</td>\n",
       "      <td>...</td>\n",
       "      <td>11.567914</td>\n",
       "      <td>21.564148</td>\n",
       "      <td>79.748326</td>\n",
       "      <td>3.689134</td>\n",
       "      <td>30.852856</td>\n",
       "      <td>321.204843</td>\n",
       "      <td>86.511208</td>\n",
       "      <td>81.475386</td>\n",
       "      <td>26.687894</td>\n",
       "      <td>0.412797</td>\n",
       "    </tr>\n",
       "    <tr>\n",
       "      <th>2</th>\n",
       "      <td>TCGA-A1-A0SE-01</td>\n",
       "      <td>Non-TNBC</td>\n",
       "      <td>0.0</td>\n",
       "      <td>4.852649</td>\n",
       "      <td>2.258469</td>\n",
       "      <td>30.817610</td>\n",
       "      <td>260.711091</td>\n",
       "      <td>0.0</td>\n",
       "      <td>11.166437</td>\n",
       "      <td>1.183824</td>\n",
       "      <td>...</td>\n",
       "      <td>18.173250</td>\n",
       "      <td>37.068483</td>\n",
       "      <td>94.620257</td>\n",
       "      <td>7.245771</td>\n",
       "      <td>43.923331</td>\n",
       "      <td>459.133172</td>\n",
       "      <td>96.854296</td>\n",
       "      <td>100.889383</td>\n",
       "      <td>249.484255</td>\n",
       "      <td>0.928793</td>\n",
       "    </tr>\n",
       "    <tr>\n",
       "      <th>3</th>\n",
       "      <td>TCGA-A1-A0SF-01</td>\n",
       "      <td>Non-TNBC</td>\n",
       "      <td>0.0</td>\n",
       "      <td>2.738411</td>\n",
       "      <td>1.568381</td>\n",
       "      <td>17.688679</td>\n",
       "      <td>138.959750</td>\n",
       "      <td>0.0</td>\n",
       "      <td>17.741902</td>\n",
       "      <td>0.091912</td>\n",
       "      <td>...</td>\n",
       "      <td>5.844075</td>\n",
       "      <td>14.219784</td>\n",
       "      <td>48.010603</td>\n",
       "      <td>5.670938</td>\n",
       "      <td>21.507226</td>\n",
       "      <td>349.836320</td>\n",
       "      <td>46.633873</td>\n",
       "      <td>24.737841</td>\n",
       "      <td>14.251924</td>\n",
       "      <td>0.309598</td>\n",
       "    </tr>\n",
       "    <tr>\n",
       "      <th>4</th>\n",
       "      <td>TCGA-A1-A0SG-01</td>\n",
       "      <td>Non-TNBC</td>\n",
       "      <td>0.0</td>\n",
       "      <td>2.839404</td>\n",
       "      <td>1.474279</td>\n",
       "      <td>14.306604</td>\n",
       "      <td>142.381038</td>\n",
       "      <td>0.0</td>\n",
       "      <td>16.554101</td>\n",
       "      <td>0.693015</td>\n",
       "      <td>...</td>\n",
       "      <td>5.302148</td>\n",
       "      <td>13.020350</td>\n",
       "      <td>55.540458</td>\n",
       "      <td>1.193747</td>\n",
       "      <td>20.734618</td>\n",
       "      <td>205.014044</td>\n",
       "      <td>92.264321</td>\n",
       "      <td>32.504745</td>\n",
       "      <td>11.027292</td>\n",
       "      <td>0.361197</td>\n",
       "    </tr>\n",
       "  </tbody>\n",
       "</table>\n",
       "<p>5 rows × 20534 columns</p>\n",
       "</div>"
      ],
      "text/plain": [
       "         Sample-id     Class  ?|100130426  ?|100133144  ?|100134869  \\\n",
       "0  TCGA-A1-A0SB-01  Non-TNBC          0.0     4.740894     1.850690   \n",
       "1  TCGA-A1-A0SD-01  Non-TNBC          0.0     5.538907     2.289837   \n",
       "2  TCGA-A1-A0SE-01  Non-TNBC          0.0     4.852649     2.258469   \n",
       "3  TCGA-A1-A0SF-01  Non-TNBC          0.0     2.738411     1.568381   \n",
       "4  TCGA-A1-A0SG-01  Non-TNBC          0.0     2.839404     1.474279   \n",
       "\n",
       "     ?|10357     ?|10431  ?|136542   ?|155060   ?|26823  ...  ZXDA|7789  \\\n",
       "0  21.147799   85.855098       0.0  17.243281  0.827206  ...   7.451490   \n",
       "1  13.757862  164.300537       0.0   7.731220  1.643382  ...  11.567914   \n",
       "2  30.817610  260.711091       0.0  11.166437  1.183824  ...  18.173250   \n",
       "3  17.688679  138.959750       0.0  17.741902  0.091912  ...   5.844075   \n",
       "4  14.306604  142.381038       0.0  16.554101  0.693015  ...   5.302148   \n",
       "\n",
       "   ZXDB|158586  ZXDC|79364  ZYG11A|440590  ZYG11B|79699    ZYX|7791  \\\n",
       "0    14.145284   64.301618       2.253716     32.928424  409.424697   \n",
       "1    21.564148   79.748326       3.689134     30.852856  321.204843   \n",
       "2    37.068483   94.620257       7.245771     43.923331  459.133172   \n",
       "3    14.219784   48.010603       5.670938     21.507226  349.836320   \n",
       "4    13.020350   55.540458       1.193747     20.734618  205.014044   \n",
       "\n",
       "   ZZEF1|23140  ZZZ3|26009  psiTPTE22|387590  tAKR|389932  \n",
       "0    94.709215   71.399466         93.526242     0.825593  \n",
       "1    86.511208   81.475386         26.687894     0.412797  \n",
       "2    96.854296  100.889383        249.484255     0.928793  \n",
       "3    46.633873   24.737841         14.251924     0.309598  \n",
       "4    92.264321   32.504745         11.027292     0.361197  \n",
       "\n",
       "[5 rows x 20534 columns]"
      ]
     },
     "execution_count": 4,
     "metadata": {},
     "output_type": "execute_result"
    }
   ],
   "source": [
    "Cleaned_data.head()"
   ]
  },
  {
   "cell_type": "code",
   "execution_count": 20,
   "metadata": {
    "scrolled": true
   },
   "outputs": [
    {
     "data": {
      "text/plain": [
       "0    0\n",
       "dtype: int64"
      ]
     },
     "execution_count": 20,
     "metadata": {},
     "output_type": "execute_result"
    }
   ],
   "source": [
    "sum_column = pd.DataFrame(Cleaned_data.sum(axis = 0))\n",
    "sum_column.isnull().sum()"
   ]
  },
  {
   "cell_type": "code",
   "execution_count": 21,
   "metadata": {},
   "outputs": [
    {
     "data": {
      "text/plain": [
       "765"
      ]
     },
     "execution_count": 21,
     "metadata": {},
     "output_type": "execute_result"
    }
   ],
   "source": [
    "len(Cleaned_data.index)"
   ]
  },
  {
   "cell_type": "code",
   "execution_count": 22,
   "metadata": {},
   "outputs": [
    {
     "data": {
      "text/plain": [
       "83"
      ]
     },
     "execution_count": 22,
     "metadata": {},
     "output_type": "execute_result"
    }
   ],
   "source": [
    "Cleaned_data.loc[Cleaned_data.Class == \"TNBC\", \"Class\"].count()"
   ]
  },
  {
   "cell_type": "code",
   "execution_count": 23,
   "metadata": {},
   "outputs": [
    {
     "data": {
      "text/plain": [
       "582"
      ]
     },
     "execution_count": 23,
     "metadata": {},
     "output_type": "execute_result"
    }
   ],
   "source": [
    "Cleaned_data.loc[Cleaned_data.Class == \"Non-TNBC\", \"Class\"].count()"
   ]
  },
  {
   "cell_type": "code",
   "execution_count": 24,
   "metadata": {},
   "outputs": [
    {
     "data": {
      "text/plain": [
       "100"
      ]
     },
     "execution_count": 24,
     "metadata": {},
     "output_type": "execute_result"
    }
   ],
   "source": [
    "Cleaned_data.loc[Cleaned_data.Class == \"Healthy\", \"Class\"].count()"
   ]
  },
  {
   "cell_type": "code",
   "execution_count": 25,
   "metadata": {},
   "outputs": [],
   "source": [
    "Cleaned_data.to_csv(path_or_buf = \"Preprocessed_RNA_data_normalized.csv\", index = False)"
   ]
  }
 ],
 "metadata": {
  "kernelspec": {
   "display_name": "Python 3",
   "language": "python",
   "name": "python3"
  },
  "language_info": {
   "codemirror_mode": {
    "name": "ipython",
    "version": 3
   },
   "file_extension": ".py",
   "mimetype": "text/x-python",
   "name": "python",
   "nbconvert_exporter": "python",
   "pygments_lexer": "ipython3",
   "version": "3.6.10"
  }
 },
 "nbformat": 4,
 "nbformat_minor": 4
}
