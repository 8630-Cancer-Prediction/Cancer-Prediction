{
 "cells": [
  {
   "cell_type": "code",
   "execution_count": 1,
   "metadata": {},
   "outputs": [],
   "source": [
    "# Import modules\n",
    "import numpy as np\n",
    "import matplotlib.pyplot as plt\n",
    "from sklearn.datasets import load_iris\n",
    "import pandas as pd\n",
    "\n",
    "# Import PySwarms\n",
    "import pyswarms as ps\n",
    "import pyswarms.backend as P\n",
    "from pyswarms.backend.swarms import Swarm\n",
    "from pyswarms.backend.topology import Star\n",
    "from pyswarms.utils.functions import single_obj as fx\n",
    "\n",
    "\n",
    "# Some more magic so that the notebook will reload external python modules\n",
    "%load_ext autoreload\n",
    "%autoreload 2"
   ]
  },
  {
   "cell_type": "code",
   "execution_count": 47,
   "metadata": {},
   "outputs": [],
   "source": [
    "file = pd.read_csv(\"Preprocessed_BRCA_RNA_data_normalized.csv\", header=None)\n",
    "file.to_csv(\"pso_feature_reduction.csv\", index=False)"
   ]
  },
  {
   "cell_type": "code",
   "execution_count": 38,
   "metadata": {},
   "outputs": [
    {
     "name": "stdout",
     "output_type": "stream",
     "text": [
      "(12, 16381)\n"
     ]
    }
   ],
   "source": [
    "#FORMAT DATA\n",
    "rows = file.shape[0]\n",
    "cols = file.shape[1] -2\n",
    "new = file.loc[1:rows, 2:cols] # REAL DATA\n",
    "#new = file.loc[1:rows, 2:5] #trial data\n",
    "X=np.array(new, dtype=np.float)\n",
    "\n",
    "\n",
    "print(X.shape)\n"
   ]
  },
  {
   "cell_type": "code",
   "execution_count": 39,
   "metadata": {},
   "outputs": [],
   "source": [
    "n = X.shape[0]\n",
    "dim = X.shape[1]\n",
    "# generate a swarm with\n",
    "init_positions = P.generate_swarm(n_particles=n, dimensions=dim, init_pos=X)\n",
    "init_velocities = P.generate_velocity(n_particles=n, dimensions=dim)\n",
    "my_options = {'c1': 0.5, 'c2': 0.3, 'w':0.9}\n",
    "# Initialize the swarm\n",
    "my_swarm = Swarm(position=init_positions, velocity=init_velocities, options=my_options)\n",
    "\n",
    "pos = my_swarm.position\n",
    "vel = my_swarm.velocity\n",
    "n_particles = my_swarm.n_particles\n",
    "pbest = my_swarm.pbest_pos\n",
    "pbest_cost = my_swarm.pbest_cost\n",
    "best = my_swarm.best_pos\n",
    "best_cost = my_swarm.best_cost\n"
   ]
  },
  {
   "cell_type": "code",
   "execution_count": 40,
   "metadata": {},
   "outputs": [
    {
     "name": "stderr",
     "output_type": "stream",
     "text": [
      "2021-04-15 13:17:25,146 - pyswarms.single.global_best - INFO - Optimize for 100 iters with {'c1': 0.5, 'c2': 0.3, 'w': 0.9}\n",
      "pyswarms.single.global_best: 100%|█████████████████████████████████████████████████████████|100/100, best_cost=8.58e+10\n",
      "2021-04-15 13:17:29,530 - pyswarms.single.global_best - INFO - Optimization finished | best cost: 85788661770.98926, best pos: [   1.06068836    8.63077806   12.3841225  ...    3.30362361    2.51828207\n",
      " -104.4223186 ]\n"
     ]
    }
   ],
   "source": [
    "# Set-up hyperparameters\n",
    "options = {'c1': 0.5, 'c2': 0.3, 'w':0.9}\n",
    "\n",
    "# Call instance of PSO\n",
    "optimizer = ps.single.GlobalBestPSO(n_particles=n, dimensions=dim, options=options, init_pos=X ) #, #vh_strategy='zero')\n",
    "\n",
    "# Perform optimization\n",
    "cost, pos = optimizer.optimize(fx.sphere, iters=100)"
   ]
  },
  {
   "cell_type": "code",
   "execution_count": null,
   "metadata": {},
   "outputs": [],
   "source": []
  },
  {
   "cell_type": "code",
   "execution_count": 41,
   "metadata": {},
   "outputs": [
    {
     "name": "stdout",
     "output_type": "stream",
     "text": [
      "16381\n"
     ]
    }
   ],
   "source": [
    "print(len(pos))"
   ]
  },
  {
   "cell_type": "code",
   "execution_count": 46,
   "metadata": {},
   "outputs": [
    {
     "name": "stdout",
     "output_type": "stream",
     "text": [
      "Initial number of features:  16381\n",
      "Number of selected features:  1052\n",
      "Perfent of feature reduction:  93.57792564556499\n"
     ]
    }
   ],
   "source": [
    "#~~~~~~~~~~~~~~~~~~~~~~~~~~~~~~~~~~~~~\n",
    "#FIND FITNESS OF GLOBAL BEST\n",
    "#~~~~~~~~~~~~~~~~~~~~~~~~~~~~~~~~~~~~~\n",
    "gfitness = []\n",
    "for x in pos:\n",
    "    gfitness.append(cost *(1 -x) + (1 - cost)*(1 - (1/len(pos))))\n",
    "n_g_total = len(gfitness)\n",
    "print(\"Initial number of features: \" , n_g_total)\n",
    "#~~~~~~~~~~~~~~~~~~~~~~~~~~~~~~~~~~~~~\n",
    "#FIND NUMBER OF FEATURES\n",
    "#~~~~~~~~~~~~~~~~~~~~~~~~~~~~~~~~~~~~~\n",
    "n_global_feet = []\n",
    "for x in gfitness:\n",
    "    if x > cost:\n",
    "        n_global_feet.append(x)\n",
    "print(\"Number of selected features: \",len(n_global_feet))\n",
    "selected_g_feet = len(n_global_feet)\n",
    "percent_g_reduction = ((n_g_total-selected_g_feet)/n_g_total)*100\n",
    "print(\"Percent of feature reduction: \",percent_g_reduction)\n",
    "#~~~~~~~~~~~~~~~~~~~~~~~~~~~~~~~~~~~~~\n",
    "#SELECT FEATURES\n",
    "#~~~~~~~~~~~~~~~~~~~~~~~~~~~~~~~~~~~~~\n",
    "global_feet = []\n",
    "for x in gfitness:\n",
    "    if x > cost:\n",
    "        global_feet.append(1)\n",
    "    else:\n",
    "        global_feet.append('')\n"
   ]
  },
  {
   "cell_type": "code",
   "execution_count": 43,
   "metadata": {},
   "outputs": [
    {
     "name": "stderr",
     "output_type": "stream",
     "text": [
      "2021-04-15 13:17:31,478 - pyswarms.single.local_best - INFO - Optimize for 100 iters with {'c1': 0.5, 'c2': 0.3, 'w': 0.9, 'k': 3, 'p': 2}\n",
      "pyswarms.single.local_best: 100%|██████████████████████████████████████████████████████████|100/100, best_cost=9.86e+10\n",
      "2021-04-15 13:17:39,075 - pyswarms.single.local_best - INFO - Optimization finished | best cost: 98627885485.00345, best pos: [ 1.41728902 14.99185472 10.72049728 ...  1.77322196 13.91631739\n",
      " 50.63283441]\n"
     ]
    }
   ],
   "source": [
    "# Set-up hyperparameters\n",
    "options = {'c1': 0.5, 'c2': 0.3, 'w': 0.9, 'k': 3, 'p': 2}\n",
    "\n",
    "# Call instance of LBestPSO \n",
    "Loptimizer = ps.single.LocalBestPSO(n_particles=n, dimensions=dim,\n",
    "                                   options=options, init_pos=X)\n",
    "\n",
    "# Perform optimization\n",
    "stats = Loptimizer.optimize(fx.sphere, iters=100)"
   ]
  },
  {
   "cell_type": "code",
   "execution_count": 45,
   "metadata": {},
   "outputs": [
    {
     "name": "stdout",
     "output_type": "stream",
     "text": [
      "Initial number of features:  16381\n",
      "Number of selected features:  216\n",
      "Percent of feature reduction:  98.68139918197912\n",
      "16381\n",
      "['', '', '', '', '', '', '', 1, '', '', '', '', '', '', '', '', '', '', '', '']\n"
     ]
    }
   ],
   "source": [
    "#~~~~~~~~~~~~~~~~~~~~~~~~~~~~~~~~~~~~~\n",
    "#FIND FITNESS OF LOCAL BEST\n",
    "#~~~~~~~~~~~~~~~~~~~~~~~~~~~~~~~~~~~~~\n",
    "Lpos = stats[1]\n",
    "Lcost = stats[0]\n",
    "lfitness = []\n",
    "for x in Lpos:\n",
    "    lfitness.append(Lcost *(1 -x) + (1 - Lcost)*(1 - (1/len(Lpos))))\n",
    "n_l_total = len(lfitness)\n",
    "print(\"Initial number of features: \" , n_l_total)\n",
    "#~~~~~~~~~~~~~~~~~~~~~~~~~~~~~~~~~~~~~\n",
    "#FIND NUMBER OF FEATURES\n",
    "#~~~~~~~~~~~~~~~~~~~~~~~~~~~~~~~~~~~~~\n",
    "n_local_feet = []\n",
    "for x in lfitness:\n",
    "    if x > Lcost:\n",
    "        n_local_feet.append(x)\n",
    "print(\"Number of selected features: \",len(n_local_feet))\n",
    "selected_l_feet = len(n_local_feet)\n",
    "percent_l_reduction = ((n_l_total-selected_l_feet)/len(lfitness))*100\n",
    "print(\"Percent of feature reduction: \",percent_l_reduction)\n",
    "#~~~~~~~~~~~~~~~~~~~~~~~~~~~~~~~~~~~~~\n",
    "#SELECT FEATURES\n",
    "#~~~~~~~~~~~~~~~~~~~~~~~~~~~~~~~~~~~~~\n",
    "local_feet = []\n",
    "for x in lfitness:\n",
    "    if x > Lcost:\n",
    "        local_feet.append(1)\n",
    "    else:\n",
    "        local_feet.append('')\n",
    "\n",
    "        \n",
    "\n",
    "print(len(local_feet))\n",
    "print(local_feet[0:20])\n",
    "\n",
    "\n"
   ]
  },
  {
   "cell_type": "code",
   "execution_count": null,
   "metadata": {},
   "outputs": [],
   "source": []
  },
  {
   "cell_type": "code",
   "execution_count": null,
   "metadata": {},
   "outputs": [],
   "source": []
  }
 ],
 "metadata": {
  "kernelspec": {
   "display_name": "Python 3",
   "language": "python",
   "name": "python3"
  },
  "language_info": {
   "codemirror_mode": {
    "name": "ipython",
    "version": 3
   },
   "file_extension": ".py",
   "mimetype": "text/x-python",
   "name": "python",
   "nbconvert_exporter": "python",
   "pygments_lexer": "ipython3",
   "version": "3.8.5"
  }
 },
 "nbformat": 4,
 "nbformat_minor": 4
}
