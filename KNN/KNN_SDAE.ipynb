{
  "nbformat": 4,
  "nbformat_minor": 0,
  "metadata": {
    "colab": {
      "name": "KNN_SDAE.ipynb",
      "provenance": [],
      "collapsed_sections": [],
      "machine_shape": "hm"
    },
    "kernelspec": {
      "name": "python3",
      "display_name": "Python 3"
    },
    "language_info": {
      "name": "python"
    }
  },
  "cells": [
    {
      "cell_type": "code",
      "metadata": {
        "colab": {
          "base_uri": "https://localhost:8080/"
        },
        "id": "FcS8eT3cJtYb",
        "outputId": "db2dfec3-defb-49c9-b13c-545decd842f9"
      },
      "source": [
        "from google.colab import drive\n",
        "drive.mount('/content/drive')"
      ],
      "execution_count": 155,
      "outputs": [
        {
          "output_type": "stream",
          "text": [
            "Drive already mounted at /content/drive; to attempt to forcibly remount, call drive.mount(\"/content/drive\", force_remount=True).\n"
          ],
          "name": "stdout"
        }
      ]
    },
    {
      "cell_type": "code",
      "metadata": {
        "id": "Lpx7b8NVI80W"
      },
      "source": [
        "import numpy as np\n",
        "import pandas as pd\n",
        "from sklearn import model_selection, metrics\n",
        "from sklearn.model_selection import train_test_split\n",
        "from sklearn.preprocessing import MinMaxScaler\n",
        "from sklearn.preprocessing import LabelEncoder\n",
        "from sklearn.neighbors import NearestNeighbors, KNeighborsClassifier\n",
        "from keras.models import load_model"
      ],
      "execution_count": 156,
      "outputs": []
    },
    {
      "cell_type": "code",
      "metadata": {
        "colab": {
          "base_uri": "https://localhost:8080/"
        },
        "id": "9HVV9GLhJEfX",
        "outputId": "bc6ccbec-c67a-4cb4-fbf1-02b8808a8bf4"
      },
      "source": [
        "#import CSV to be read as a pandas dataframe\n",
        "labels = pd.read_csv('/content/drive/MyDrive/Preprocessed_BRCA_RNA_data_normalized.csv', header = 0)\n",
        "data = pd.read_csv('/content/drive/MyDrive/Colab Notebooks/Encoded_SDAEdata.csv', header = None)\n",
        "\n",
        "\n",
        "#encode categorical variables to numerical\n",
        "labelenc = LabelEncoder()\n",
        "labels['Class'] = labelenc.fit_transform(labels['Class'])\n",
        "\n",
        "print(data)\n",
        "\n",
        "#get labels from original data and use encoded data as x\n",
        "x = data\n",
        "y = labels['Class']\n",
        "print(y)\n",
        "\n",
        "print(x.shape)\n",
        "print(y.shape)"
      ],
      "execution_count": 157,
      "outputs": [
        {
          "output_type": "stream",
          "text": [
            "             0     1     2            3     ...         3996  3997  3998  3999\n",
            "0     202767216.0   0.0   0.0  211054928.0  ...  181114448.0   0.0   0.0   0.0\n",
            "1     212405968.0   0.0   0.0  221088704.0  ...  189721040.0   0.0   0.0   0.0\n",
            "2     211352480.0   0.0   0.0  219990576.0  ...  188780848.0   0.0   0.0   0.0\n",
            "3     232466512.0   0.0   0.0  241969968.0  ...  207641024.0   0.0   0.0   0.0\n",
            "4     224118624.0   0.0   0.0  233279072.0  ...  200184208.0   0.0   0.0   0.0\n",
            "...           ...   ...   ...          ...  ...          ...   ...   ...   ...\n",
            "1090  224419264.0   0.0   0.0  233593264.0  ...  200454272.0   0.0   0.0   0.0\n",
            "1091  209206320.0   0.0   0.0  217758496.0  ...  186868576.0   0.0   0.0   0.0\n",
            "1092  228606912.0   0.0   0.0  237943408.0  ...  204193776.0   0.0   0.0   0.0\n",
            "1093  234440768.0   0.0   0.0  244021904.0  ...  209401952.0   0.0   0.0   0.0\n",
            "1094  212876560.0   0.0   0.0  221576944.0  ...  190141904.0   0.0   0.0   0.0\n",
            "\n",
            "[1095 rows x 4000 columns]\n",
            "0       2\n",
            "1       2\n",
            "2       2\n",
            "3       2\n",
            "4       2\n",
            "       ..\n",
            "1090    2\n",
            "1091    2\n",
            "1092    2\n",
            "1093    2\n",
            "1094    2\n",
            "Name: Class, Length: 1095, dtype: int64\n",
            "(1095, 4000)\n",
            "(1095,)\n"
          ],
          "name": "stdout"
        }
      ]
    },
    {
      "cell_type": "code",
      "metadata": {
        "colab": {
          "base_uri": "https://localhost:8080/"
        },
        "id": "YAg_Jl6vJ481",
        "outputId": "7a96d7c3-aab6-4925-c13c-aa1285d7e530"
      },
      "source": [
        "#divide into train and test set\n",
        "x_train, x_test, y_train, y_test = train_test_split(x, y, test_size = 0.2)\n",
        "\n",
        "print(x_train.shape)\n",
        "print(x_test.shape)\n",
        "print(y_train.shape)\n",
        "print(y_test.shape)"
      ],
      "execution_count": 158,
      "outputs": [
        {
          "output_type": "stream",
          "text": [
            "(876, 4000)\n",
            "(219, 4000)\n",
            "(876,)\n",
            "(219,)\n"
          ],
          "name": "stdout"
        }
      ]
    },
    {
      "cell_type": "code",
      "metadata": {
        "id": "6wbV1HHfQQQ4"
      },
      "source": [
        "#scale data & normalize\n",
        "t = MinMaxScaler()\n",
        "t.fit(x_train)\n",
        "t.fit(x_test)\n",
        "\n",
        "x_train = t.transform(x_train)\n",
        "x_test = t.transform(x_test)"
      ],
      "execution_count": 159,
      "outputs": []
    },
    {
      "cell_type": "code",
      "metadata": {
        "id": "p2uAYRYBJL0B",
        "colab": {
          "base_uri": "https://localhost:8080/"
        },
        "outputId": "5d1a5f08-22d0-4437-b461-49efd98aa366"
      },
      "source": [
        "#set classifier to vote of 3 neighbors, weighted by distance from k\n",
        "knn = KNeighborsClassifier(n_neighbors=5, weights='distance')\n",
        "knn.fit(x_train, y_train)"
      ],
      "execution_count": 160,
      "outputs": [
        {
          "output_type": "execute_result",
          "data": {
            "text/plain": [
              "KNeighborsClassifier(algorithm='auto', leaf_size=30, metric='minkowski',\n",
              "                     metric_params=None, n_jobs=None, n_neighbors=5, p=2,\n",
              "                     weights='distance')"
            ]
          },
          "metadata": {
            "tags": []
          },
          "execution_count": 160
        }
      ]
    },
    {
      "cell_type": "code",
      "metadata": {
        "colab": {
          "base_uri": "https://localhost:8080/"
        },
        "id": "2L8dnRM5qzAm",
        "outputId": "1d2542de-8b6f-4f46-eb6f-acc910f73ae5"
      },
      "source": [
        "#compare labels to preduction from KNN model\n",
        "y_expect = y_test\n",
        "y_pred = knn.predict(x_test)\n",
        "\n",
        "#get metrics, SDAE\n",
        "print(metrics.classification_report(y_expect, y_pred))"
      ],
      "execution_count": 161,
      "outputs": [
        {
          "output_type": "stream",
          "text": [
            "              precision    recall  f1-score   support\n",
            "\n",
            "           0       0.43      0.10      0.16        30\n",
            "           1       0.00      0.00      0.00        22\n",
            "           2       0.77      0.95      0.85       167\n",
            "\n",
            "    accuracy                           0.74       219\n",
            "   macro avg       0.40      0.35      0.34       219\n",
            "weighted avg       0.65      0.74      0.67       219\n",
            "\n"
          ],
          "name": "stdout"
        }
      ]
    }
  ]
}