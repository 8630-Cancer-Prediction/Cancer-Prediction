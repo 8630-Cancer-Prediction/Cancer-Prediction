{
  "nbformat": 4,
  "nbformat_minor": 0,
  "metadata": {
    "colab": {
      "name": "KNN_SAE.ipynb",
      "provenance": [],
      "collapsed_sections": [],
      "machine_shape": "hm"
    },
    "kernelspec": {
      "name": "python3",
      "display_name": "Python 3"
    },
    "language_info": {
      "name": "python"
    }
  },
  "cells": [
    {
      "cell_type": "code",
      "metadata": {
        "colab": {
          "base_uri": "https://localhost:8080/"
        },
        "id": "FcS8eT3cJtYb",
        "outputId": "d20353ac-a104-48bd-f757-3a51e0d7afca"
      },
      "source": [
        "from google.colab import drive\n",
        "drive.mount('/content/drive')"
      ],
      "execution_count": 1,
      "outputs": [
        {
          "output_type": "stream",
          "text": [
            "Mounted at /content/drive\n"
          ],
          "name": "stdout"
        }
      ]
    },
    {
      "cell_type": "code",
      "metadata": {
        "id": "Lpx7b8NVI80W"
      },
      "source": [
        "import numpy as np\n",
        "import pandas as pd\n",
        "from sklearn import model_selection, metrics\n",
        "from sklearn.model_selection import train_test_split\n",
        "from sklearn.preprocessing import MinMaxScaler\n",
        "from sklearn.preprocessing import LabelEncoder\n",
        "from sklearn.neighbors import NearestNeighbors, KNeighborsClassifier\n",
        "from keras.models import load_model"
      ],
      "execution_count": 2,
      "outputs": []
    },
    {
      "cell_type": "code",
      "metadata": {
        "colab": {
          "base_uri": "https://localhost:8080/"
        },
        "id": "9HVV9GLhJEfX",
        "outputId": "323d79b0-ffbc-45f1-c5c4-84e4bb5214ce"
      },
      "source": [
        "#import CSV to be read as a pandas dataframe\n",
        "labels = pd.read_csv('/content/drive/MyDrive/Preprocessed_BRCA_RNA_data_normalized.csv', header = 0)\n",
        "data = pd.read_csv('/content/drive/MyDrive/Colab Notebooks/Encoded_SAEdata.csv', header = None)\n",
        "\n",
        "#encode categorical variables to numerical\n",
        "labelenc = LabelEncoder()\n",
        "labels['Class'] = labelenc.fit_transform(labels['Class'])\n",
        "\n",
        "print(data)\n",
        "\n",
        "#get labels from original data and use encoded data as x\n",
        "x = data\n",
        "y = labels['Class']\n",
        "print(y)\n",
        "\n",
        "print(x.shape)\n",
        "print(y.shape)"
      ],
      "execution_count": 3,
      "outputs": [
        {
          "output_type": "stream",
          "text": [
            "            0     1     2           3     ...        3996        3997  3998  3999\n",
            "0     34624196.0   0.0   0.0  25319092.0  ...  40169164.0  50800664.0   0.0   0.0\n",
            "1     35555280.0   0.0   0.0  25999470.0  ...  41248964.0  52166092.0   0.0   0.0\n",
            "2     35597272.0   0.0   0.0  26029184.0  ...  41295596.0  52225976.0   0.0   0.0\n",
            "3     38360768.0   0.0   0.0  28050728.0  ...  44505036.0  56281900.0   0.0   0.0\n",
            "4     36705600.0   0.0   0.0  26840622.0  ...  42585956.0  53853840.0   0.0   0.0\n",
            "...          ...   ...   ...         ...  ...         ...         ...   ...   ...\n",
            "1090  37631308.0   0.0   0.0  27518624.0  ...  43658788.0  55213036.0   0.0   0.0\n",
            "1091  35085672.0   0.0   0.0  25654976.0  ...  40702624.0  51475188.0   0.0   0.0\n",
            "1092  37345780.0   0.0   0.0  27314730.0  ...  43335368.0  54796792.0   0.0   0.0\n",
            "1093  39085112.0   0.0   0.0  28580688.0  ...  45344092.0  57343432.0   0.0   0.0\n",
            "1094  36038656.0   0.0   0.0  26352948.0  ...  41809144.0  52874280.0   0.0   0.0\n",
            "\n",
            "[1095 rows x 4000 columns]\n",
            "0       2\n",
            "1       2\n",
            "2       2\n",
            "3       2\n",
            "4       2\n",
            "       ..\n",
            "1090    2\n",
            "1091    2\n",
            "1092    2\n",
            "1093    2\n",
            "1094    2\n",
            "Name: Class, Length: 1095, dtype: int64\n",
            "(1095, 4000)\n",
            "(1095,)\n"
          ],
          "name": "stdout"
        }
      ]
    },
    {
      "cell_type": "code",
      "metadata": {
        "colab": {
          "base_uri": "https://localhost:8080/"
        },
        "id": "YAg_Jl6vJ481",
        "outputId": "03c2eff3-7907-4972-eb18-3458b4610c88"
      },
      "source": [
        "#divide into train and test set\n",
        "x_train, x_test, y_train, y_test = train_test_split(x, y, test_size = 0.2)\n",
        "\n",
        "print(x_train.shape)\n",
        "print(x_test.shape)\n",
        "print(y_train.shape)\n",
        "print(y_test.shape)"
      ],
      "execution_count": 4,
      "outputs": [
        {
          "output_type": "stream",
          "text": [
            "(876, 4000)\n",
            "(219, 4000)\n",
            "(876,)\n",
            "(219,)\n"
          ],
          "name": "stdout"
        }
      ]
    },
    {
      "cell_type": "code",
      "metadata": {
        "id": "6wbV1HHfQQQ4"
      },
      "source": [
        "#scale data & normalize\n",
        "t = MinMaxScaler()\n",
        "t.fit(x_train)\n",
        "t.fit(x_test)\n",
        "\n",
        "x_train = t.transform(x_train)\n",
        "x_test = t.transform(x_test)"
      ],
      "execution_count": 5,
      "outputs": []
    },
    {
      "cell_type": "code",
      "metadata": {
        "id": "p2uAYRYBJL0B",
        "colab": {
          "base_uri": "https://localhost:8080/"
        },
        "outputId": "62140237-cca2-433b-80bb-d298280a7f09"
      },
      "source": [
        "#set classifier to vote of 3 neighbors, weighted by distance from k\n",
        "knn = KNeighborsClassifier(n_neighbors=5, weights='distance')\n",
        "knn.fit(x_train, y_train)"
      ],
      "execution_count": 6,
      "outputs": [
        {
          "output_type": "execute_result",
          "data": {
            "text/plain": [
              "KNeighborsClassifier(algorithm='auto', leaf_size=30, metric='minkowski',\n",
              "                     metric_params=None, n_jobs=None, n_neighbors=5, p=2,\n",
              "                     weights='distance')"
            ]
          },
          "metadata": {
            "tags": []
          },
          "execution_count": 6
        }
      ]
    },
    {
      "cell_type": "code",
      "metadata": {
        "colab": {
          "base_uri": "https://localhost:8080/"
        },
        "id": "2L8dnRM5qzAm",
        "outputId": "6b89bd7f-8132-48ef-aafd-2b5c971e668b"
      },
      "source": [
        "#compare labels to preduction from KNN model\n",
        "y_expect = y_test\n",
        "y_pred = knn.predict(x_test)\n",
        "\n",
        "#get metrics, SAE\n",
        "print(metrics.classification_report(y_expect, y_pred))"
      ],
      "execution_count": 7,
      "outputs": [
        {
          "output_type": "stream",
          "text": [
            "              precision    recall  f1-score   support\n",
            "\n",
            "           0       0.40      0.08      0.13        25\n",
            "           1       0.22      0.12      0.15        17\n",
            "           2       0.82      0.95      0.88       177\n",
            "\n",
            "    accuracy                           0.79       219\n",
            "   macro avg       0.48      0.38      0.39       219\n",
            "weighted avg       0.73      0.79      0.74       219\n",
            "\n"
          ],
          "name": "stdout"
        }
      ]
    },
    {
      "cell_type": "code",
      "metadata": {
        "id": "AIoIz3Pqrsen"
      },
      "source": [
        ""
      ],
      "execution_count": 7,
      "outputs": []
    }
  ]
}