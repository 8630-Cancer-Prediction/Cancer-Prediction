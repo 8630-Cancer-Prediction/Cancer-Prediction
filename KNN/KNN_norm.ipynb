{
  "nbformat": 4,
  "nbformat_minor": 0,
  "metadata": {
    "colab": {
      "name": "KNN_norm.ipynb",
      "provenance": [],
      "collapsed_sections": [],
      "machine_shape": "hm"
    },
    "kernelspec": {
      "name": "python3",
      "display_name": "Python 3"
    },
    "language_info": {
      "name": "python"
    }
  },
  "cells": [
    {
      "cell_type": "code",
      "metadata": {
        "colab": {
          "base_uri": "https://localhost:8080/"
        },
        "id": "FcS8eT3cJtYb",
        "outputId": "7d933707-d4c7-4b03-c579-2e9891feb816"
      },
      "source": [
        "from google.colab import drive\n",
        "drive.mount('/content/drive')"
      ],
      "execution_count": 1,
      "outputs": [
        {
          "output_type": "stream",
          "text": [
            "Mounted at /content/drive\n"
          ],
          "name": "stdout"
        }
      ]
    },
    {
      "cell_type": "code",
      "metadata": {
        "id": "Lpx7b8NVI80W"
      },
      "source": [
        "import numpy as np\n",
        "import pandas as pd\n",
        "from sklearn import model_selection, metrics\n",
        "from sklearn.model_selection import train_test_split\n",
        "from sklearn.preprocessing import MinMaxScaler\n",
        "from sklearn.preprocessing import LabelEncoder\n",
        "from sklearn.neighbors import NearestNeighbors, KNeighborsClassifier\n",
        "from keras.models import load_model"
      ],
      "execution_count": 3,
      "outputs": []
    },
    {
      "cell_type": "code",
      "metadata": {
        "colab": {
          "base_uri": "https://localhost:8080/"
        },
        "id": "9HVV9GLhJEfX",
        "outputId": "0055e5ec-2cb3-4221-d95e-f7692377d52e"
      },
      "source": [
        "#import CSV to be read as a pandas dataframe\n",
        "data = pd.read_csv('/content/drive/MyDrive/Preprocessed_BRCA_RNA_data_normalized.csv', header = 0)\n",
        "\n",
        "\n",
        "\n",
        "#encode categorical variables to numerical\n",
        "labelenc = LabelEncoder()\n",
        "data['Class'] = labelenc.fit_transform(data['Class'])\n",
        "data['Sample-id'] = labelenc.fit_transform(data['Sample-id'])\n",
        "\n",
        "print(data)\n",
        "\n",
        "#get labels from original data and use encoded data as x\n",
        "x = data\n",
        "y = data['Class']\n",
        "\n",
        "print(x.shape)\n",
        "print(y.shape)"
      ],
      "execution_count": 13,
      "outputs": [
        {
          "output_type": "stream",
          "text": [
            "      Sample-id  Class  ?|100130426  ...  ZZZ3|26009  psiTPTE22|387590  tAKR|389932\n",
            "0             0      2       0.0000  ...   1180.4565            1.7233       0.0000\n",
            "1             1      2       0.0000  ...    406.7428          926.5905       0.0000\n",
            "2             2      2       0.9066  ...    509.5195           35.3581       0.0000\n",
            "3             3      2       0.0000  ...    700.8688           66.6115       0.0000\n",
            "4             4      2       0.0000  ...    881.7021          187.2340       0.0000\n",
            "...         ...    ...          ...  ...         ...               ...          ...\n",
            "1090       1090      2       0.0000  ...    443.0869          724.9033       0.0000\n",
            "1091       1091      2       0.0000  ...    670.0787           98.4252       0.0000\n",
            "1092       1092      2       0.0000  ...    953.7081          235.2385       0.9447\n",
            "1093       1093      2       0.0000  ...    750.8288          238.9272       0.0000\n",
            "1094       1094      2       0.0000  ...    462.1140           20.8786       0.0000\n",
            "\n",
            "[1095 rows x 20533 columns]\n",
            "0       2\n",
            "1       2\n",
            "2       2\n",
            "3       2\n",
            "4       2\n",
            "       ..\n",
            "1090    2\n",
            "1091    2\n",
            "1092    2\n",
            "1093    2\n",
            "1094    2\n",
            "Name: Class, Length: 1095, dtype: int64\n",
            "(1095, 20533)\n",
            "(1095,)\n"
          ],
          "name": "stdout"
        }
      ]
    },
    {
      "cell_type": "code",
      "metadata": {
        "colab": {
          "base_uri": "https://localhost:8080/"
        },
        "id": "YAg_Jl6vJ481",
        "outputId": "e1ba7e89-04ca-4b1c-80b6-8b033e2d90d2"
      },
      "source": [
        "#divide into train and test set\n",
        "x_train, x_test, y_train, y_test = train_test_split(x, y, test_size = 0.2)\n",
        "\n",
        "print(x_train.shape)\n",
        "print(x_test.shape)\n",
        "print(y_train.shape)\n",
        "print(y_test.shape)"
      ],
      "execution_count": 14,
      "outputs": [
        {
          "output_type": "stream",
          "text": [
            "(876, 20533)\n",
            "(219, 20533)\n",
            "(876,)\n",
            "(219,)\n"
          ],
          "name": "stdout"
        }
      ]
    },
    {
      "cell_type": "code",
      "metadata": {
        "id": "6wbV1HHfQQQ4"
      },
      "source": [
        "#scale data & normalize\n",
        "t = MinMaxScaler()\n",
        "t.fit(x_train)\n",
        "t.fit(x_test)\n",
        "\n",
        "x_train = t.transform(x_train)\n",
        "x_test = t.transform(x_test)"
      ],
      "execution_count": 15,
      "outputs": []
    },
    {
      "cell_type": "code",
      "metadata": {
        "id": "p2uAYRYBJL0B",
        "colab": {
          "base_uri": "https://localhost:8080/"
        },
        "outputId": "650b7994-41e5-408e-8512-e14204363407"
      },
      "source": [
        "#set classifier to vote of 3 neighbors, weighted by distance from k\n",
        "knn = KNeighborsClassifier(n_neighbors=5, weights='distance')\n",
        "knn.fit(x_train, y_train)"
      ],
      "execution_count": 16,
      "outputs": [
        {
          "output_type": "execute_result",
          "data": {
            "text/plain": [
              "KNeighborsClassifier(algorithm='auto', leaf_size=30, metric='minkowski',\n",
              "                     metric_params=None, n_jobs=None, n_neighbors=5, p=2,\n",
              "                     weights='distance')"
            ]
          },
          "metadata": {
            "tags": []
          },
          "execution_count": 16
        }
      ]
    },
    {
      "cell_type": "code",
      "metadata": {
        "colab": {
          "base_uri": "https://localhost:8080/"
        },
        "id": "2L8dnRM5qzAm",
        "outputId": "908436e4-1bfb-4910-893e-fecbc4e428c7"
      },
      "source": [
        "#compare labels to preduction from KNN model\n",
        "y_expect = y_test\n",
        "y_pred = knn.predict(x_test)\n",
        "\n",
        "#get metrics, SDAE\n",
        "print(metrics.classification_report(y_expect, y_pred))"
      ],
      "execution_count": 17,
      "outputs": [
        {
          "output_type": "stream",
          "text": [
            "              precision    recall  f1-score   support\n",
            "\n",
            "           0       1.00      1.00      1.00        20\n",
            "           1       1.00      0.08      0.15        25\n",
            "           2       0.88      1.00      0.94       174\n",
            "\n",
            "    accuracy                           0.89       219\n",
            "   macro avg       0.96      0.69      0.70       219\n",
            "weighted avg       0.91      0.89      0.85       219\n",
            "\n"
          ],
          "name": "stdout"
        }
      ]
    },
    {
      "cell_type": "code",
      "metadata": {
        "id": "K-mDtE9vjioa"
      },
      "source": [
        ""
      ],
      "execution_count": null,
      "outputs": []
    }
  ]
}